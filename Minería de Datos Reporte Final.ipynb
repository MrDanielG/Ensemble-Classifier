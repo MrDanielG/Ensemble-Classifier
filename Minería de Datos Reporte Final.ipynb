{
 "cells": [
  {
   "cell_type": "markdown",
   "metadata": {},
   "source": [
    "<h1 style=\"text-align: center;\">Minería de Datos</h1>\n",
    "\n",
    "<h2>Reporte Final</h2>\n",
    "\n",
    "**Alumno:** Daniel Garnica Sánchez\n",
    "\n",
    "**Matrícula:** 201735076"
   ]
  },
  {
   "cell_type": "markdown",
   "metadata": {},
   "source": [
    "_**Índice**_\n",
    "\n",
    "* **Introducción**\n",
    "    * ¿Qué es PCA?\n",
    "    * ¿Qué es un Ensamble?\n",
    "* **Objetivos**\n",
    "* **Desarrollo**\n",
    "     * Pre-procesamiento de Datos\n",
    "     * Estandarización de Datos\n",
    "     * PCA\n",
    "* **Clasificadores de Información**\n",
    "     * Naive Bayes\n",
    "     * Árbol de Decisión\n",
    "     * KNN\n",
    "* **Ensamble de Clasificadores**\n",
    "    * Promedio de Predicciones\n",
    "    * Método de Votación\n",
    "* **Predicción y Resultados**\n",
    "    * Visualización de la Información\n",
    "    * Límites de Decisión\n",
    "* **Conclusión**\n",
    "* **Referencias**"
   ]
  },
  {
   "cell_type": "markdown",
   "metadata": {},
   "source": [
    "# Introducción\n",
    "\n"
   ]
  },
  {
   "cell_type": "markdown",
   "metadata": {},
   "source": [
    "A lo largo del curso se han ido explorando continuamente diferentes técnicas para la trata de información, tales como el pre-procesamiento de datos, donde se prepara la información para ser procesada con métodos como la estandarización de datos, la detección y eliminación de outliers, etc. \n",
    "\n",
    "\n",
    "De la misma manera se trabajó con el Análisis de Componentes Principales, para reducir la dimensionalidad de nuestra información.\n",
    "\n",
    "\n",
    "Posteriormente se entrenaron diversos clasificadores, por lo que nuestro dataset se dividió en dos conjuntos, uno de entrenamiento y otro de prueba, para posteriormente entrenar y obtener la precisión cada clasificador. \n",
    "\n",
    "\n",
    "Finalmente se formó un ensamble con los clasificadores entrenados."
   ]
  },
  {
   "cell_type": "markdown",
   "metadata": {},
   "source": [
    "## ¿Qué es PCA?"
   ]
  },
  {
   "cell_type": "markdown",
   "metadata": {},
   "source": [
    "El Análisis de Componentes Principales constituye un procedimiento matemático que permite transformar un número de variables posiblemente correlacionadas en un número menor de variables no correlacionadas, llamadas: **Componentes Principales.** El primer componente o eje absorbe la mayor cantidad de variabilidad posible del conjunto de datos y cada uno de los componentes restantes absorbe el resto. \n",
    "\n",
    "Básicamente el método genera un nuevo conjunto de variables, denominadas Componentes Principales, donde cada componente principal es una combinación lineal de las variables originales.\n",
    "\n",
    "PCA es un método tradicionalmente utilizado para reducir la dimensionalidad de un conjunto de datos. También se utiliza para identificar nuevas variables en un conjunto de datos para una mejor interpretación de los mismos."
   ]
  },
  {
   "cell_type": "markdown",
   "metadata": {},
   "source": [
    "## ¿Qué es un Ensamble?"
   ]
  },
  {
   "cell_type": "markdown",
   "metadata": {},
   "source": [
    "Como sabemos los clasificadores nos permiten hacer un análisis y una predicción de la clase de nuestra información. Un clasificador utiliza un conjunto de entrenamiento para comprender como los atributos se relacionan con las clases y una vez que ha sido entrenado puede utilizarse para detectar algún nuevo caso o hacer predicciones. \n",
    "\n",
    "Un ensamble es un conjunto de clasificadores que nos permite combinar múltiples hipótesis para formar una hipótesis mejor y más precisa. Básicamente los métodos de ensamble son técnicas que nos permiten combinar varios algoritmos de aprendizaje para construir un algoritmo más poderoso y por ende más preciso para obtener un mejor desempeño en la predicción."
   ]
  },
  {
   "cell_type": "markdown",
   "metadata": {},
   "source": [
    "# Objetivo"
   ]
  },
  {
   "cell_type": "markdown",
   "metadata": {},
   "source": [
    "- Mostrar el proceso para la elaboración de un ensamble de clasificadores así como la visualización de la información y predicciones que este nos brinda."
   ]
  },
  {
   "cell_type": "markdown",
   "metadata": {},
   "source": [
    "# Desarrollo"
   ]
  },
  {
   "cell_type": "markdown",
   "metadata": {},
   "source": [
    "A continuación se mostrará el proceso para la creación los clasificadores así como su entrenamiento y su precisión.\n",
    "\n",
    "Nuestro dataset se conforma de uno de los archivos que se brindó para la prueba del proyecto final."
   ]
  },
  {
   "cell_type": "code",
   "execution_count": 1,
   "metadata": {},
   "outputs": [],
   "source": [
    "import pandas as pd \n",
    "import numpy as np\n",
    "import matplotlib.pyplot as plt\n",
    "from sklearn.decomposition import PCA\n",
    "from sklearn.preprocessing import StandardScaler\n",
    "from IPython.display import Markdown as md\n",
    "%matplotlib inline"
   ]
  },
  {
   "cell_type": "markdown",
   "metadata": {},
   "source": [
    "## Pre-procesamiento de Datos"
   ]
  },
  {
   "cell_type": "markdown",
   "metadata": {},
   "source": [
    "Para obtener resultados más satisfactorios en nuestros clasificadores es necesario hacer un pre-procesamiento de nuestros datos por lo que se deberá obtener la información del archivo correspondiente para manipular los meta datos, haciendo énfasis en el numero elementos, atributos y clases."
   ]
  },
  {
   "cell_type": "code",
   "execution_count": 2,
   "metadata": {},
   "outputs": [],
   "source": [
    "info = 'Slice409.txt'\n",
    "\n",
    "with open(info, \"r\") as archivo:\n",
    "    numElementos = int(archivo.readline())\n",
    "    numAtributos = int(archivo.readline())\n",
    "    numClases = int(archivo.readline())\n",
    "    \n",
    "    atributos = []\n",
    "    \n",
    "    for i in range(0, numAtributos):\n",
    "        atributos.append(\"A\" + str(i+1))\n",
    "\n",
    "    atributos.append(\"Clase\")\n",
    "    \n",
    "    data = pd.read_csv(archivo, delimiter=',', header=None)\n",
    "    data.columns = atributos"
   ]
  },
  {
   "cell_type": "markdown",
   "metadata": {},
   "source": [
    "### Información Dataset\n",
    "\n",
    "Tras indicar el archivo que deseamos pre-procesar, obtenemos el numero de elementos, atributos y clases para posteriormente ver una pequeña parte de nuestro dataset"
   ]
  },
  {
   "cell_type": "code",
   "execution_count": 3,
   "metadata": {
    "scrolled": false
   },
   "outputs": [
    {
     "data": {
      "text/html": [
       "<div>\n",
       "<style scoped>\n",
       "    .dataframe tbody tr th:only-of-type {\n",
       "        vertical-align: middle;\n",
       "    }\n",
       "\n",
       "    .dataframe tbody tr th {\n",
       "        vertical-align: top;\n",
       "    }\n",
       "\n",
       "    .dataframe thead th {\n",
       "        text-align: right;\n",
       "    }\n",
       "</style>\n",
       "<table border=\"1\" class=\"dataframe\">\n",
       "  <thead>\n",
       "    <tr style=\"text-align: right;\">\n",
       "      <th></th>\n",
       "      <th>A1</th>\n",
       "      <th>A2</th>\n",
       "      <th>A3</th>\n",
       "      <th>A4</th>\n",
       "      <th>A5</th>\n",
       "      <th>A6</th>\n",
       "      <th>A7</th>\n",
       "      <th>A8</th>\n",
       "      <th>A9</th>\n",
       "      <th>A10</th>\n",
       "      <th>...</th>\n",
       "      <th>A377</th>\n",
       "      <th>A378</th>\n",
       "      <th>A379</th>\n",
       "      <th>A380</th>\n",
       "      <th>A381</th>\n",
       "      <th>A382</th>\n",
       "      <th>A383</th>\n",
       "      <th>A384</th>\n",
       "      <th>A385</th>\n",
       "      <th>Clase</th>\n",
       "    </tr>\n",
       "  </thead>\n",
       "  <tbody>\n",
       "    <tr>\n",
       "      <th>0</th>\n",
       "      <td>0.622490</td>\n",
       "      <td>0.000000</td>\n",
       "      <td>0.000000</td>\n",
       "      <td>0.000000</td>\n",
       "      <td>0.000000</td>\n",
       "      <td>0.000000</td>\n",
       "      <td>0.0</td>\n",
       "      <td>0.00</td>\n",
       "      <td>0.00</td>\n",
       "      <td>-0.25</td>\n",
       "      <td>...</td>\n",
       "      <td>0.0</td>\n",
       "      <td>0.00000</td>\n",
       "      <td>0.000000</td>\n",
       "      <td>0.000000</td>\n",
       "      <td>0.0</td>\n",
       "      <td>0.0</td>\n",
       "      <td>0.00</td>\n",
       "      <td>0.00</td>\n",
       "      <td>27.937052</td>\n",
       "      <td>4</td>\n",
       "    </tr>\n",
       "    <tr>\n",
       "      <th>1</th>\n",
       "      <td>0.630137</td>\n",
       "      <td>0.400524</td>\n",
       "      <td>0.421793</td>\n",
       "      <td>0.850483</td>\n",
       "      <td>0.734300</td>\n",
       "      <td>0.000000</td>\n",
       "      <td>0.0</td>\n",
       "      <td>-0.25</td>\n",
       "      <td>-0.25</td>\n",
       "      <td>-0.25</td>\n",
       "      <td>...</td>\n",
       "      <td>0.0</td>\n",
       "      <td>0.97244</td>\n",
       "      <td>0.995384</td>\n",
       "      <td>0.997934</td>\n",
       "      <td>0.0</td>\n",
       "      <td>0.0</td>\n",
       "      <td>-0.25</td>\n",
       "      <td>-0.25</td>\n",
       "      <td>11.468284</td>\n",
       "      <td>4</td>\n",
       "    </tr>\n",
       "    <tr>\n",
       "      <th>2</th>\n",
       "      <td>0.657718</td>\n",
       "      <td>0.773077</td>\n",
       "      <td>0.850657</td>\n",
       "      <td>0.753205</td>\n",
       "      <td>0.000000</td>\n",
       "      <td>0.000000</td>\n",
       "      <td>0.0</td>\n",
       "      <td>-0.25</td>\n",
       "      <td>-0.25</td>\n",
       "      <td>-0.25</td>\n",
       "      <td>...</td>\n",
       "      <td>0.0</td>\n",
       "      <td>0.95305</td>\n",
       "      <td>0.986386</td>\n",
       "      <td>0.993740</td>\n",
       "      <td>0.0</td>\n",
       "      <td>0.0</td>\n",
       "      <td>-0.25</td>\n",
       "      <td>-0.25</td>\n",
       "      <td>13.492684</td>\n",
       "      <td>4</td>\n",
       "    </tr>\n",
       "    <tr>\n",
       "      <th>3</th>\n",
       "      <td>0.683544</td>\n",
       "      <td>0.573705</td>\n",
       "      <td>0.323887</td>\n",
       "      <td>0.824176</td>\n",
       "      <td>0.728665</td>\n",
       "      <td>0.000000</td>\n",
       "      <td>0.0</td>\n",
       "      <td>-0.25</td>\n",
       "      <td>-0.25</td>\n",
       "      <td>-0.25</td>\n",
       "      <td>...</td>\n",
       "      <td>0.0</td>\n",
       "      <td>0.00000</td>\n",
       "      <td>0.995114</td>\n",
       "      <td>0.997632</td>\n",
       "      <td>0.0</td>\n",
       "      <td>0.0</td>\n",
       "      <td>-0.25</td>\n",
       "      <td>-0.25</td>\n",
       "      <td>11.413571</td>\n",
       "      <td>4</td>\n",
       "    </tr>\n",
       "    <tr>\n",
       "      <th>4</th>\n",
       "      <td>0.000000</td>\n",
       "      <td>0.000000</td>\n",
       "      <td>0.000000</td>\n",
       "      <td>0.000000</td>\n",
       "      <td>0.196364</td>\n",
       "      <td>0.947141</td>\n",
       "      <td>0.0</td>\n",
       "      <td>-0.25</td>\n",
       "      <td>-0.25</td>\n",
       "      <td>-0.25</td>\n",
       "      <td>...</td>\n",
       "      <td>0.0</td>\n",
       "      <td>0.00000</td>\n",
       "      <td>0.000000</td>\n",
       "      <td>0.000000</td>\n",
       "      <td>0.0</td>\n",
       "      <td>0.0</td>\n",
       "      <td>-0.25</td>\n",
       "      <td>-0.25</td>\n",
       "      <td>9.939380</td>\n",
       "      <td>5</td>\n",
       "    </tr>\n",
       "  </tbody>\n",
       "</table>\n",
       "<p>5 rows × 386 columns</p>\n",
       "</div>"
      ],
      "text/plain": [
       "         A1        A2        A3        A4        A5        A6   A7    A8  \\\n",
       "0  0.622490  0.000000  0.000000  0.000000  0.000000  0.000000  0.0  0.00   \n",
       "1  0.630137  0.400524  0.421793  0.850483  0.734300  0.000000  0.0 -0.25   \n",
       "2  0.657718  0.773077  0.850657  0.753205  0.000000  0.000000  0.0 -0.25   \n",
       "3  0.683544  0.573705  0.323887  0.824176  0.728665  0.000000  0.0 -0.25   \n",
       "4  0.000000  0.000000  0.000000  0.000000  0.196364  0.947141  0.0 -0.25   \n",
       "\n",
       "     A9   A10  ...  A377     A378      A379      A380  A381  A382  A383  A384  \\\n",
       "0  0.00 -0.25  ...   0.0  0.00000  0.000000  0.000000   0.0   0.0  0.00  0.00   \n",
       "1 -0.25 -0.25  ...   0.0  0.97244  0.995384  0.997934   0.0   0.0 -0.25 -0.25   \n",
       "2 -0.25 -0.25  ...   0.0  0.95305  0.986386  0.993740   0.0   0.0 -0.25 -0.25   \n",
       "3 -0.25 -0.25  ...   0.0  0.00000  0.995114  0.997632   0.0   0.0 -0.25 -0.25   \n",
       "4 -0.25 -0.25  ...   0.0  0.00000  0.000000  0.000000   0.0   0.0 -0.25 -0.25   \n",
       "\n",
       "        A385  Clase  \n",
       "0  27.937052      4  \n",
       "1  11.468284      4  \n",
       "2  13.492684      4  \n",
       "3  11.413571      4  \n",
       "4   9.939380      5  \n",
       "\n",
       "[5 rows x 386 columns]"
      ]
     },
     "execution_count": 3,
     "metadata": {},
     "output_type": "execute_result"
    }
   ],
   "source": [
    "data.head()"
   ]
  },
  {
   "cell_type": "markdown",
   "metadata": {},
   "source": [
    "### Estandarización de Datos"
   ]
  },
  {
   "cell_type": "markdown",
   "metadata": {},
   "source": [
    "Dado que posteriormente utilizaremos el método de PCA el cual produce un subespacio de características que maximiza la varianza a lo largo de los ejes, tiene sentido estandarizar los datos, especialmente si se midieron en diferentes escalas.\n",
    "\n",
    "A continuación se dividirá la información en dos conjuntos, el de las clases y el de la información, esto para poder estandarizar la información sin tomar en cuenta la clase del elemento."
   ]
  },
  {
   "cell_type": "code",
   "execution_count": 4,
   "metadata": {},
   "outputs": [],
   "source": [
    "dataNoClase = data.drop('Clase', 1)\n",
    "y_final = data['Clase']\n",
    "\n",
    "x_std = StandardScaler().fit_transform(dataNoClase)\n",
    "atributos.remove('Clase')\n",
    "\n",
    "x_final = pd.DataFrame(data = x_std, columns = atributos)"
   ]
  },
  {
   "cell_type": "markdown",
   "metadata": {},
   "source": [
    "### Visualización de Información Estandarizada\n",
    "\n",
    "A continuación visualizaremos la información estandarizada, podemos notar un cambio en los valores de los atributos."
   ]
  },
  {
   "cell_type": "code",
   "execution_count": 5,
   "metadata": {},
   "outputs": [
    {
     "data": {
      "text/html": [
       "<div>\n",
       "<style scoped>\n",
       "    .dataframe tbody tr th:only-of-type {\n",
       "        vertical-align: middle;\n",
       "    }\n",
       "\n",
       "    .dataframe tbody tr th {\n",
       "        vertical-align: top;\n",
       "    }\n",
       "\n",
       "    .dataframe thead th {\n",
       "        text-align: right;\n",
       "    }\n",
       "</style>\n",
       "<table border=\"1\" class=\"dataframe\">\n",
       "  <thead>\n",
       "    <tr style=\"text-align: right;\">\n",
       "      <th></th>\n",
       "      <th>A1</th>\n",
       "      <th>A2</th>\n",
       "      <th>A3</th>\n",
       "      <th>A4</th>\n",
       "      <th>A5</th>\n",
       "      <th>A6</th>\n",
       "      <th>A7</th>\n",
       "      <th>A8</th>\n",
       "      <th>A9</th>\n",
       "      <th>A10</th>\n",
       "      <th>...</th>\n",
       "      <th>A376</th>\n",
       "      <th>A377</th>\n",
       "      <th>A378</th>\n",
       "      <th>A379</th>\n",
       "      <th>A380</th>\n",
       "      <th>A381</th>\n",
       "      <th>A382</th>\n",
       "      <th>A383</th>\n",
       "      <th>A384</th>\n",
       "      <th>A385</th>\n",
       "    </tr>\n",
       "  </thead>\n",
       "  <tbody>\n",
       "    <tr>\n",
       "      <th>0</th>\n",
       "      <td>1.992098</td>\n",
       "      <td>-0.328935</td>\n",
       "      <td>-0.261308</td>\n",
       "      <td>-0.323317</td>\n",
       "      <td>-0.482472</td>\n",
       "      <td>-0.626457</td>\n",
       "      <td>-0.241522</td>\n",
       "      <td>-0.047155</td>\n",
       "      <td>0.121493</td>\n",
       "      <td>-0.201773</td>\n",
       "      <td>...</td>\n",
       "      <td>0.777124</td>\n",
       "      <td>-0.442261</td>\n",
       "      <td>-0.587134</td>\n",
       "      <td>-0.678336</td>\n",
       "      <td>-0.692425</td>\n",
       "      <td>-0.470336</td>\n",
       "      <td>0.115844</td>\n",
       "      <td>0.877817</td>\n",
       "      <td>1.570383</td>\n",
       "      <td>0.443470</td>\n",
       "    </tr>\n",
       "    <tr>\n",
       "      <th>1</th>\n",
       "      <td>2.022537</td>\n",
       "      <td>1.508664</td>\n",
       "      <td>1.812606</td>\n",
       "      <td>2.978071</td>\n",
       "      <td>1.832712</td>\n",
       "      <td>-0.626457</td>\n",
       "      <td>-0.241522</td>\n",
       "      <td>-0.733230</td>\n",
       "      <td>-0.646223</td>\n",
       "      <td>-0.201773</td>\n",
       "      <td>...</td>\n",
       "      <td>0.777124</td>\n",
       "      <td>-0.442261</td>\n",
       "      <td>1.661434</td>\n",
       "      <td>1.477574</td>\n",
       "      <td>1.464809</td>\n",
       "      <td>-0.470336</td>\n",
       "      <td>0.115844</td>\n",
       "      <td>-1.139190</td>\n",
       "      <td>-0.636787</td>\n",
       "      <td>-1.533037</td>\n",
       "    </tr>\n",
       "    <tr>\n",
       "      <th>2</th>\n",
       "      <td>2.132325</td>\n",
       "      <td>3.217932</td>\n",
       "      <td>3.921288</td>\n",
       "      <td>2.600459</td>\n",
       "      <td>-0.482472</td>\n",
       "      <td>-0.626457</td>\n",
       "      <td>-0.241522</td>\n",
       "      <td>-0.733230</td>\n",
       "      <td>-0.646223</td>\n",
       "      <td>-0.201773</td>\n",
       "      <td>...</td>\n",
       "      <td>-1.286796</td>\n",
       "      <td>-0.442261</td>\n",
       "      <td>1.616599</td>\n",
       "      <td>1.458085</td>\n",
       "      <td>1.455743</td>\n",
       "      <td>-0.470336</td>\n",
       "      <td>0.115844</td>\n",
       "      <td>-1.139190</td>\n",
       "      <td>-0.636787</td>\n",
       "      <td>-1.290078</td>\n",
       "    </tr>\n",
       "    <tr>\n",
       "      <th>3</th>\n",
       "      <td>2.235128</td>\n",
       "      <td>2.303216</td>\n",
       "      <td>1.331212</td>\n",
       "      <td>2.875953</td>\n",
       "      <td>1.814946</td>\n",
       "      <td>-0.626457</td>\n",
       "      <td>-0.241522</td>\n",
       "      <td>-0.733230</td>\n",
       "      <td>-0.646223</td>\n",
       "      <td>-0.201773</td>\n",
       "      <td>...</td>\n",
       "      <td>0.777124</td>\n",
       "      <td>-0.442261</td>\n",
       "      <td>-0.587134</td>\n",
       "      <td>1.476989</td>\n",
       "      <td>1.464156</td>\n",
       "      <td>-0.470336</td>\n",
       "      <td>0.115844</td>\n",
       "      <td>-1.139190</td>\n",
       "      <td>-0.636787</td>\n",
       "      <td>-1.539604</td>\n",
       "    </tr>\n",
       "    <tr>\n",
       "      <th>4</th>\n",
       "      <td>-0.485770</td>\n",
       "      <td>-0.328935</td>\n",
       "      <td>-0.261308</td>\n",
       "      <td>-0.323317</td>\n",
       "      <td>0.136647</td>\n",
       "      <td>1.980025</td>\n",
       "      <td>-0.241522</td>\n",
       "      <td>-0.733230</td>\n",
       "      <td>-0.646223</td>\n",
       "      <td>-0.201773</td>\n",
       "      <td>...</td>\n",
       "      <td>-1.286796</td>\n",
       "      <td>-0.442261</td>\n",
       "      <td>-0.587134</td>\n",
       "      <td>-0.678336</td>\n",
       "      <td>-0.692425</td>\n",
       "      <td>-0.470336</td>\n",
       "      <td>0.115844</td>\n",
       "      <td>-1.139190</td>\n",
       "      <td>-0.636787</td>\n",
       "      <td>-1.716529</td>\n",
       "    </tr>\n",
       "  </tbody>\n",
       "</table>\n",
       "<p>5 rows × 385 columns</p>\n",
       "</div>"
      ],
      "text/plain": [
       "         A1        A2        A3        A4        A5        A6        A7  \\\n",
       "0  1.992098 -0.328935 -0.261308 -0.323317 -0.482472 -0.626457 -0.241522   \n",
       "1  2.022537  1.508664  1.812606  2.978071  1.832712 -0.626457 -0.241522   \n",
       "2  2.132325  3.217932  3.921288  2.600459 -0.482472 -0.626457 -0.241522   \n",
       "3  2.235128  2.303216  1.331212  2.875953  1.814946 -0.626457 -0.241522   \n",
       "4 -0.485770 -0.328935 -0.261308 -0.323317  0.136647  1.980025 -0.241522   \n",
       "\n",
       "         A8        A9       A10  ...      A376      A377      A378      A379  \\\n",
       "0 -0.047155  0.121493 -0.201773  ...  0.777124 -0.442261 -0.587134 -0.678336   \n",
       "1 -0.733230 -0.646223 -0.201773  ...  0.777124 -0.442261  1.661434  1.477574   \n",
       "2 -0.733230 -0.646223 -0.201773  ... -1.286796 -0.442261  1.616599  1.458085   \n",
       "3 -0.733230 -0.646223 -0.201773  ...  0.777124 -0.442261 -0.587134  1.476989   \n",
       "4 -0.733230 -0.646223 -0.201773  ... -1.286796 -0.442261 -0.587134 -0.678336   \n",
       "\n",
       "       A380      A381      A382      A383      A384      A385  \n",
       "0 -0.692425 -0.470336  0.115844  0.877817  1.570383  0.443470  \n",
       "1  1.464809 -0.470336  0.115844 -1.139190 -0.636787 -1.533037  \n",
       "2  1.455743 -0.470336  0.115844 -1.139190 -0.636787 -1.290078  \n",
       "3  1.464156 -0.470336  0.115844 -1.139190 -0.636787 -1.539604  \n",
       "4 -0.692425 -0.470336  0.115844 -1.139190 -0.636787 -1.716529  \n",
       "\n",
       "[5 rows x 385 columns]"
      ]
     },
     "execution_count": 5,
     "metadata": {},
     "output_type": "execute_result"
    }
   ],
   "source": [
    "x_final.head()"
   ]
  },
  {
   "cell_type": "markdown",
   "metadata": {},
   "source": [
    "## PCA"
   ]
  },
  {
   "cell_type": "markdown",
   "metadata": {},
   "source": [
    "Tras haber estandarizado nuestro dataset podemos proceder a realizar PCA, donde indicaremos el numero de componentes que deseamos, para posteriormente visualizar el contenido de estos. \n",
    "\n",
    "Se optó por utilizar el Análisis de Componentes Principales debido a la gran cantidad de atributos que nuestros elementos tienen, además de proporcionar más precisión a nuestros clasificadores."
   ]
  },
  {
   "cell_type": "code",
   "execution_count": 6,
   "metadata": {
    "scrolled": true
   },
   "outputs": [
    {
     "name": "stdout",
     "output_type": "stream",
     "text": [
      "Ingrese la cantidad de Componentes Principales: 2\n"
     ]
    }
   ],
   "source": [
    "num_comp = int(input(\"Ingrese la cantidad de Componentes Principales: \"))\n",
    "pca = PCA(n_components = num_comp)"
   ]
  },
  {
   "cell_type": "code",
   "execution_count": 7,
   "metadata": {},
   "outputs": [],
   "source": [
    "atributos = []\n",
    "for i in range(num_comp):\n",
    "    atributos.append('CP'+ str(i+1))"
   ]
  },
  {
   "cell_type": "code",
   "execution_count": 8,
   "metadata": {},
   "outputs": [
    {
     "data": {
      "text/plain": [
       "['CP1', 'CP2']"
      ]
     },
     "execution_count": 8,
     "metadata": {},
     "output_type": "execute_result"
    }
   ],
   "source": [
    "atributos"
   ]
  },
  {
   "cell_type": "code",
   "execution_count": 9,
   "metadata": {},
   "outputs": [],
   "source": [
    "x_pca = pca.fit_transform(x_std)\n",
    "x_final = pd.DataFrame(data = x_pca, columns = atributos)"
   ]
  },
  {
   "cell_type": "markdown",
   "metadata": {},
   "source": [
    "### Visualización de Componentes Principales\n",
    "\n",
    "Tras haber aplicado PCA en nuestro dataset, podemos ver el numero de componentes principales mostrándonos como las dimensiones han sido reducidas."
   ]
  },
  {
   "cell_type": "code",
   "execution_count": 10,
   "metadata": {
    "scrolled": true
   },
   "outputs": [
    {
     "data": {
      "text/html": [
       "<div>\n",
       "<style scoped>\n",
       "    .dataframe tbody tr th:only-of-type {\n",
       "        vertical-align: middle;\n",
       "    }\n",
       "\n",
       "    .dataframe tbody tr th {\n",
       "        vertical-align: top;\n",
       "    }\n",
       "\n",
       "    .dataframe thead th {\n",
       "        text-align: right;\n",
       "    }\n",
       "</style>\n",
       "<table border=\"1\" class=\"dataframe\">\n",
       "  <thead>\n",
       "    <tr style=\"text-align: right;\">\n",
       "      <th></th>\n",
       "      <th>CP1</th>\n",
       "      <th>CP2</th>\n",
       "    </tr>\n",
       "  </thead>\n",
       "  <tbody>\n",
       "    <tr>\n",
       "      <th>0</th>\n",
       "      <td>-3.826570</td>\n",
       "      <td>9.149169</td>\n",
       "    </tr>\n",
       "    <tr>\n",
       "      <th>1</th>\n",
       "      <td>5.867545</td>\n",
       "      <td>-3.935892</td>\n",
       "    </tr>\n",
       "    <tr>\n",
       "      <th>2</th>\n",
       "      <td>5.794284</td>\n",
       "      <td>-5.288344</td>\n",
       "    </tr>\n",
       "    <tr>\n",
       "      <th>3</th>\n",
       "      <td>6.132414</td>\n",
       "      <td>-3.602010</td>\n",
       "    </tr>\n",
       "    <tr>\n",
       "      <th>4</th>\n",
       "      <td>9.157489</td>\n",
       "      <td>-1.806634</td>\n",
       "    </tr>\n",
       "  </tbody>\n",
       "</table>\n",
       "</div>"
      ],
      "text/plain": [
       "        CP1       CP2\n",
       "0 -3.826570  9.149169\n",
       "1  5.867545 -3.935892\n",
       "2  5.794284 -5.288344\n",
       "3  6.132414 -3.602010\n",
       "4  9.157489 -1.806634"
      ]
     },
     "execution_count": 10,
     "metadata": {},
     "output_type": "execute_result"
    }
   ],
   "source": [
    "x_final.head()"
   ]
  },
  {
   "cell_type": "markdown",
   "metadata": {},
   "source": [
    "# Clasificadores de Información"
   ]
  },
  {
   "cell_type": "code",
   "execution_count": 11,
   "metadata": {},
   "outputs": [],
   "source": [
    "dataFinal = pd.concat([x_final, y_final], axis = 1);\n",
    "X = x_final\n",
    "Y = y_final"
   ]
  },
  {
   "cell_type": "markdown",
   "metadata": {},
   "source": [
    "Para entrenar los diversos clasificadores es necesario dividir nuestra información ya limpia y estandarizada en dos conjuntos:\n",
    "\n",
    "- Conjunto de entrenamiento\n",
    "- Conjunto de prueba\n",
    "\n",
    "Por lo que nos auxiliaremos con el método **train_test_split** que dividirá nuestra información en estos conjuntos. Este método nos permite determinar la proporción en la que podemos dividir nuestra información, sin embargo la dejaremos en su valor por defecto que es 0.25"
   ]
  },
  {
   "cell_type": "code",
   "execution_count": 12,
   "metadata": {},
   "outputs": [],
   "source": [
    "import seaborn as sn\n",
    "from sklearn.model_selection import train_test_split\n",
    "\n",
    "X_train, X_test, y_train, y_test = train_test_split(X, Y)"
   ]
  },
  {
   "cell_type": "markdown",
   "metadata": {},
   "source": [
    "## Naive Bayes"
   ]
  },
  {
   "cell_type": "markdown",
   "metadata": {},
   "source": [
    "Naive Bayes es un clasificador probabilístico inspirado en el teorema de Bayes bajo una simple suposición de que los atributos son condicionalmente independientes.\n",
    "\n",
    "Naive Bayes es un algoritmo muy simple de implementar y se han obtenido buenos resultados en la mayoría de los casos. Puede ser fácilmente escalable a conjuntos de datos más grandes, ya que lleva tiempo lineal, en lugar de una aproximación iterativa costosa como se usa para muchos otros tipos de clasificadores."
   ]
  },
  {
   "cell_type": "code",
   "execution_count": 13,
   "metadata": {},
   "outputs": [],
   "source": [
    "from sklearn.naive_bayes import GaussianNB\n",
    "from sklearn.metrics import classification_report, confusion_matrix, accuracy_score\n",
    "\n",
    "clf_bayes = GaussianNB().fit(X_train, y_train)\n",
    "bayes_pred = clf_bayes.predict(X_test)"
   ]
  },
  {
   "cell_type": "markdown",
   "metadata": {},
   "source": [
    "### Reporte de Clasificación"
   ]
  },
  {
   "cell_type": "code",
   "execution_count": 14,
   "metadata": {
    "scrolled": true
   },
   "outputs": [
    {
     "name": "stdout",
     "output_type": "stream",
     "text": [
      "              precision    recall  f1-score   support\n",
      "\n",
      "           0       0.25      0.42      0.31        12\n",
      "           1       0.74      0.79      0.76        53\n",
      "           2       0.00      0.00      0.00         4\n",
      "           3       0.00      0.00      0.00         2\n",
      "           4       0.00      0.00      0.00        15\n",
      "           5       0.27      0.41      0.33        17\n",
      "\n",
      "    accuracy                           0.52       103\n",
      "   macro avg       0.21      0.27      0.23       103\n",
      "weighted avg       0.45      0.52      0.48       103\n",
      "\n"
     ]
    },
    {
     "name": "stderr",
     "output_type": "stream",
     "text": [
      "/usr/local/lib/python3.6/dist-packages/sklearn/metrics/classification.py:1437: UndefinedMetricWarning: Precision and F-score are ill-defined and being set to 0.0 in labels with no predicted samples.\n",
      "  'precision', 'predicted', average, warn_for)\n"
     ]
    }
   ],
   "source": [
    "print(classification_report(y_test, bayes_pred))"
   ]
  },
  {
   "cell_type": "markdown",
   "metadata": {},
   "source": [
    "Podemos notar como en el caso de el clasificador de bayes su comportamiento es bastante inusual, al grado de no poder determinar la clase de diversos elementos. Esto se ve reflejado en la matriz de confusión"
   ]
  },
  {
   "cell_type": "markdown",
   "metadata": {},
   "source": [
    "### Matríz de Confusión "
   ]
  },
  {
   "cell_type": "code",
   "execution_count": 15,
   "metadata": {
    "scrolled": true
   },
   "outputs": [
    {
     "data": {
      "image/png": "[encoded data removed]",
      "text/plain": [
       "<Figure size 432x288 with 2 Axes>"
      ]
     },
     "metadata": {},
     "output_type": "display_data"
    }
   ],
   "source": [
    "array_bayes = confusion_matrix(y_test, bayes_pred)\n",
    "index = array_bayes.shape[0]\n",
    "columns = array_bayes.shape[1]\n",
    "         \n",
    "df_cm = pd.DataFrame(array_bayes, range(index), range(columns))\n",
    "sn.set(font_scale=1.4)\n",
    "sn.heatmap(df_cm, annot=True, annot_kws={\"size\": 16})\n",
    "plt.show()"
   ]
  },
  {
   "cell_type": "markdown",
   "metadata": {},
   "source": [
    "### Precisión de Clasificador Naive Bayes"
   ]
  },
  {
   "cell_type": "code",
   "execution_count": 16,
   "metadata": {
    "scrolled": true
   },
   "outputs": [
    {
     "name": "stdout",
     "output_type": "stream",
     "text": [
      "0.5242718446601942\n"
     ]
    }
   ],
   "source": [
    "print(accuracy_score(y_test, bayes_pred))"
   ]
  },
  {
   "cell_type": "markdown",
   "metadata": {},
   "source": [
    "Podemos notar como la precisión de nuestro clasificador no es del todo optima, sin embargo veremos como se compara esta precisión con la de los demás clasificadores."
   ]
  },
  {
   "cell_type": "markdown",
   "metadata": {},
   "source": [
    "## Árbol de Decisión"
   ]
  },
  {
   "cell_type": "markdown",
   "metadata": {},
   "source": [
    "El árbol de decisión crea modelos de clasificación en forma de estructura de árbol. Utiliza un conjunto de reglas las cuales son exclusivas y exhaustivas para la clasificación.\n",
    "\n",
    "\n",
    "Este tipo de clasificador puede ajustarse fácilmente generando demasiadas ramas y puede reflejar anomalías debidas al ruido o valores atípicos (outliers). Un modelo sobre ajustado tiene un rendimiento muy pobre en los datos no vistos a pesar de que ofrece un rendimiento impresionante en los datos de entrenamiento. Esto se puede evitar mediante la poda, la cual es un proceso que elimina las ramas del árbol para una mejor clasificación de los elementos, sin embargo este proceso no se aplico en el respectivo clasificador."
   ]
  },
  {
   "cell_type": "code",
   "execution_count": 17,
   "metadata": {},
   "outputs": [],
   "source": [
    "from sklearn import tree\n",
    "clf_tree = tree.DecisionTreeClassifier()\n",
    "clf_tree = clf_tree.fit(X_train, y_train)\n",
    "tree_pred = clf_tree.predict(X_test)"
   ]
  },
  {
   "cell_type": "markdown",
   "metadata": {},
   "source": [
    "### Reporte de Clasificación"
   ]
  },
  {
   "cell_type": "code",
   "execution_count": 18,
   "metadata": {},
   "outputs": [
    {
     "name": "stdout",
     "output_type": "stream",
     "text": [
      "              precision    recall  f1-score   support\n",
      "\n",
      "           0       1.00      0.75      0.86        12\n",
      "           1       0.93      0.96      0.94        53\n",
      "           2       1.00      1.00      1.00         4\n",
      "           3       1.00      1.00      1.00         2\n",
      "           4       0.86      0.80      0.83        15\n",
      "           5       0.79      0.88      0.83        17\n",
      "\n",
      "    accuracy                           0.90       103\n",
      "   macro avg       0.93      0.90      0.91       103\n",
      "weighted avg       0.91      0.90      0.90       103\n",
      "\n"
     ]
    }
   ],
   "source": [
    "print(classification_report(y_test, tree_pred))"
   ]
  },
  {
   "cell_type": "markdown",
   "metadata": {},
   "source": [
    "### Matríz de Confusión "
   ]
  },
  {
   "cell_type": "code",
   "execution_count": 19,
   "metadata": {},
   "outputs": [
    {
     "data": {
      "image/png": "[encoded data removed]",
      "text/plain": [
       "<Figure size 432x288 with 2 Axes>"
      ]
     },
     "metadata": {},
     "output_type": "display_data"
    }
   ],
   "source": [
    "array_tree = confusion_matrix(y_test, tree_pred)\n",
    "index = array_tree.shape[0]\n",
    "columns = array_tree.shape[1]\n",
    "         \n",
    "df_cm = pd.DataFrame(array_tree, range(index), range(columns))\n",
    "sn.set(font_scale=1.4)\n",
    "sn.heatmap(df_cm, annot=True, annot_kws={\"size\": 16})\n",
    "plt.show()"
   ]
  },
  {
   "cell_type": "markdown",
   "metadata": {},
   "source": [
    "### Precisión de Clasificador Arbol"
   ]
  },
  {
   "cell_type": "code",
   "execution_count": 20,
   "metadata": {
    "scrolled": true
   },
   "outputs": [
    {
     "name": "stdout",
     "output_type": "stream",
     "text": [
      "0.9029126213592233\n"
     ]
    }
   ],
   "source": [
    "print(accuracy_score(y_test, tree_pred))"
   ]
  },
  {
   "cell_type": "markdown",
   "metadata": {},
   "source": [
    "Podemos notar que a diferencia del clasificador Naive Bayes se obtuvo una mayor precisión incluso sin utilizar el procedimiento de poda de árbol. Así mismo la diferencia de precisión entre ambos clasificadores es considerable."
   ]
  },
  {
   "cell_type": "markdown",
   "metadata": {},
   "source": [
    "## K-Nearest Neighbors"
   ]
  },
  {
   "cell_type": "markdown",
   "metadata": {},
   "source": [
    "k-Nearest Neighbors por sus siglas KNN es un algoritmo de aprendizaje lento que almacena todas las instancias correspondientes a puntos de datos de entrenamiento en espacio n-dimensional. Cuando se reciben datos discretos desconocidos, analiza el número k más cercano de instancias guardadas también identificados como: \"vecinos más cercanos\" y devuelve la clase más común como la predicción y para los datos con valor real devuelve la media de k vecinos más cercanos.\n",
    "\n",
    "**Observación**\n",
    "\n",
    "Es importante mencionar que la precisión de este algoritmo es inversamente proporcional al número K de vecinos cercanos. Esto quiere decir que mientras el valor de K se vea incrementado, la precisión de este clasificador se verá disminuida como se muestra en la siguiente gráfica.\n",
    "\n",
    "Es por esta razón que si deseamos una mejor precisión es recomendable que K tenga un valor igual o menor a 5"
   ]
  },
  {
   "cell_type": "code",
   "execution_count": 21,
   "metadata": {
    "scrolled": true
   },
   "outputs": [
    {
     "data": {
      "image/png": "[encoded data removed]",
      "text/plain": [
       "<Figure size 432x288 with 1 Axes>"
      ]
     },
     "metadata": {},
     "output_type": "display_data"
    }
   ],
   "source": [
    "from sklearn.neighbors import KNeighborsClassifier\n",
    "neighbors = np.arange(1,20)\n",
    "train_accuracy =np.empty(len(neighbors))\n",
    "test_accuracy = np.empty(len(neighbors))\n",
    "\n",
    "for i,k in enumerate(neighbors):\n",
    "    knn = KNeighborsClassifier(n_neighbors=k)\n",
    "    knn.fit(X_train, y_train)\n",
    "    train_accuracy[i] = knn.score(X_train, y_train)\n",
    "    test_accuracy[i] = knn.score(X_test, y_test) \n",
    "    \n",
    "plt.title('Precisión de KNN respecto a K')\n",
    "plt.plot(neighbors, test_accuracy, label='Precisión de prueba')\n",
    "plt.plot(neighbors, train_accuracy, label='Precisión de entrenamiento')\n",
    "plt.legend()\n",
    "plt.xlabel('Número de Vecinos')\n",
    "plt.ylabel('Precisión')\n",
    "plt.show()"
   ]
  },
  {
   "cell_type": "code",
   "execution_count": 22,
   "metadata": {},
   "outputs": [
    {
     "name": "stdout",
     "output_type": "stream",
     "text": [
      "Numero de Vecinos K = 2\n"
     ]
    }
   ],
   "source": [
    "num_vecinos = int(input(\"Numero de Vecinos K = \"))\n",
    "clf_knn = KNeighborsClassifier(n_neighbors = num_vecinos)\n",
    "clf_knn.fit(X_train, y_train)\n",
    "knn_pred = clf_knn.predict(X_test)"
   ]
  },
  {
   "cell_type": "markdown",
   "metadata": {},
   "source": [
    "### Reporte de Clasificación"
   ]
  },
  {
   "cell_type": "code",
   "execution_count": 23,
   "metadata": {},
   "outputs": [
    {
     "name": "stdout",
     "output_type": "stream",
     "text": [
      "              precision    recall  f1-score   support\n",
      "\n",
      "           0       1.00      1.00      1.00        12\n",
      "           1       1.00      0.98      0.99        53\n",
      "           2       1.00      1.00      1.00         4\n",
      "           3       1.00      1.00      1.00         2\n",
      "           4       0.88      0.93      0.90        15\n",
      "           5       0.88      0.88      0.88        17\n",
      "\n",
      "    accuracy                           0.96       103\n",
      "   macro avg       0.96      0.97      0.96       103\n",
      "weighted avg       0.96      0.96      0.96       103\n",
      "\n"
     ]
    }
   ],
   "source": [
    "print(classification_report(y_test, knn_pred))"
   ]
  },
  {
   "cell_type": "markdown",
   "metadata": {},
   "source": [
    "### Matríz de Confusión "
   ]
  },
  {
   "cell_type": "code",
   "execution_count": 24,
   "metadata": {},
   "outputs": [
    {
     "data": {
      "image/png": "[encoded data removed]",
      "text/plain": [
       "<Figure size 432x288 with 2 Axes>"
      ]
     },
     "metadata": {},
     "output_type": "display_data"
    }
   ],
   "source": [
    "array_knn = confusion_matrix(y_test, knn_pred)\n",
    "index = array_knn.shape[0]\n",
    "columns = array_knn.shape[1]\n",
    "         \n",
    "df_cm = pd.DataFrame(array_knn, range(index), range(columns))\n",
    "sn.set(font_scale=1.4)\n",
    "sn.heatmap(df_cm, annot=True, annot_kws={\"size\": 16})\n",
    "plt.show()"
   ]
  },
  {
   "cell_type": "markdown",
   "metadata": {},
   "source": [
    "### Precisión de Clasificador KNN"
   ]
  },
  {
   "cell_type": "code",
   "execution_count": 25,
   "metadata": {
    "scrolled": true
   },
   "outputs": [
    {
     "name": "stdout",
     "output_type": "stream",
     "text": [
      "0.9611650485436893\n"
     ]
    }
   ],
   "source": [
    "print(accuracy_score(y_test, knn_pred))"
   ]
  },
  {
   "cell_type": "markdown",
   "metadata": {},
   "source": [
    "Podemos notar que de los tres clasificadores seleccionados KNN es el que normalmente obtiene un mayor grado de precisión para determinar la clase de los elementos en nuestro dataset, esto es aún más evidente si observamos la matriz de confusión, donde únicamente comete unos cuántos errores, por lo que podemos observar la eficiencia de este algoritmo en el caso particular don de K equivale al valor ingresado por el usuario."
   ]
  },
  {
   "cell_type": "markdown",
   "metadata": {},
   "source": [
    "Tras haber experimentado con los distintos tipos de clasificadores se pudo observar que estos varían en su desempeño y por en de en su precisión para determinar la clase de algún elemento, esto nos permite deducir el por que de los métodos de ensamble, al utilizar diferentes algoritmos de clasificación en conjunto nos permite obtener un mejor desempeño en la predicción, algo que sería distinto de manera individual."
   ]
  },
  {
   "cell_type": "markdown",
   "metadata": {},
   "source": [
    "# Ensamble de Clasificadores"
   ]
  },
  {
   "cell_type": "markdown",
   "metadata": {},
   "source": [
    "Como se mencionó anteriormente, un ensamble es un conjunto de clasificadores que nos permite combinar múltiples hipótesis para formar una hipótesis mejor y más precisa, esto nos permitirá tener una predicción mas certera. \n",
    "\n",
    "Existen varios métodos de ensamble, entre los más conocidos y utilizados se encuentran los siguientes:\n",
    "\n",
    "* **Bagging:** Mejora la estabilidad y precisión de algoritmos de aprendizaje automático\n",
    "* **Adaboost:** Propone entrenar iterativamente una serie de clasificadores base, de tal modo que cada nuevo clasificador preste mayor atención a los datos clasificados erróneamente por los clasificadores anteriores\n",
    "* **Random Forest:** Este método se encarga de crear y combinar diversos árboles haciendo que trabajen en conjunto de tal manera que la salida de cada uno se contará como \"un voto\" y la opción más votada será la respuesta del \"Random Forest\"\n",
    "\n",
    "En nuestro caso particular nos enfocaremos en el método de votación. Este método toma una lista de diferentes estimadores como argumentos y un método de votación, ya sea una votación **dura** o **suave.** \n",
    "El método de votación **dura** utiliza las etiquetas predichas y un sistema de reglas por mayoría, mientras que el método de votación **suave** predice las etiquetas de clase en función de las probabilidades predichas para el clasificador."
   ]
  },
  {
   "cell_type": "markdown",
   "metadata": {},
   "source": [
    "## Promedio de Predicciones"
   ]
  },
  {
   "cell_type": "markdown",
   "metadata": {},
   "source": [
    "Antes de entrar al clasificador de votación, cubramos un método muy rápido y fácil el cual se basa en el promedio de las predicciones. Simplemente sumamos los diferentes valores obtenidos de nuestros clasificadores elegidos y luego los dividimos por el número total de clasificadores, usando la división de piso para obtener un valor completo."
   ]
  },
  {
   "cell_type": "code",
   "execution_count": 26,
   "metadata": {},
   "outputs": [
    {
     "name": "stdout",
     "output_type": "stream",
     "text": [
      "Promedio de Clasificadores: 0.5436893203883495\n"
     ]
    }
   ],
   "source": [
    "avg_preds = (knn_pred + tree_pred + bayes_pred)//3\n",
    "acc = accuracy_score(y_test, avg_preds)\n",
    "print(\"Promedio de Clasificadores: \" + str(acc))"
   ]
  },
  {
   "cell_type": "markdown",
   "metadata": {},
   "source": [
    "Podemos notar que guardamos con antelación las predicciones de los clasificadores en variables individuales para posteriormente utilizar esos valores."
   ]
  },
  {
   "cell_type": "markdown",
   "metadata": {},
   "source": [
    "## Método de Votación"
   ]
  },
  {
   "cell_type": "markdown",
   "metadata": {},
   "source": [
    "Creamos nuestro clasificador de votación a partir de los clasificadores KNN, Bayes y Árbol de Decisión mostrados anteriormente y se determina el tipo de votación, el cual en nuestro caso será una votación suave.\n",
    "Al igual que con los clasificadores anteriores se le brindarán datos de entrenamiento para posteriormente hacer una predicción"
   ]
  },
  {
   "cell_type": "code",
   "execution_count": 27,
   "metadata": {},
   "outputs": [
    {
     "data": {
      "text/plain": [
       "VotingClassifier(estimators=[('Bayes',\n",
       "                              GaussianNB(priors=None, var_smoothing=1e-09)),\n",
       "                             ('Tree',\n",
       "                              DecisionTreeClassifier(class_weight=None,\n",
       "                                                     criterion='gini',\n",
       "                                                     max_depth=None,\n",
       "                                                     max_features=None,\n",
       "                                                     max_leaf_nodes=None,\n",
       "                                                     min_impurity_decrease=0.0,\n",
       "                                                     min_impurity_split=None,\n",
       "                                                     min_samples_leaf=1,\n",
       "                                                     min_samples_split=2,\n",
       "                                                     min_weight_fraction_leaf=0.0,\n",
       "                                                     presort=False,\n",
       "                                                     random_state=None,\n",
       "                                                     splitter='best')),\n",
       "                             ('KNN',\n",
       "                              KNeighborsClassifier(algorithm='auto',\n",
       "                                                   leaf_size=30,\n",
       "                                                   metric='minkowski',\n",
       "                                                   metric_params=None,\n",
       "                                                   n_jobs=None, n_neighbors=2,\n",
       "                                                   p=2, weights='uniform'))],\n",
       "                 flatten_transform=True, n_jobs=None, voting='soft',\n",
       "                 weights=[1, 1, 2])"
      ]
     },
     "execution_count": 27,
     "metadata": {},
     "output_type": "execute_result"
    }
   ],
   "source": [
    "from sklearn.ensemble import VotingClassifier\n",
    "\n",
    "voting_clf = VotingClassifier(\n",
    "    estimators= [('Bayes', clf_bayes), ('Tree', clf_tree), ('KNN', clf_knn)], voting='soft', weights=[1, 1, 2])\n",
    "\n",
    "voting_clf.fit(X_train, y_train)"
   ]
  },
  {
   "cell_type": "markdown",
   "metadata": {},
   "source": [
    "Podemos notar como nuestro ensamble describe las características especificas de cada clasificador con el que está trabajando.\n",
    "\n",
    "Posteriormente se calcula la precisión de predicción de nuestro ensamble"
   ]
  },
  {
   "cell_type": "markdown",
   "metadata": {},
   "source": [
    "# Predicción y Resultados Finales"
   ]
  },
  {
   "cell_type": "code",
   "execution_count": 28,
   "metadata": {
    "scrolled": true
   },
   "outputs": [
    {
     "name": "stdout",
     "output_type": "stream",
     "text": [
      "Precisión: 0.9514563106796117\n"
     ]
    }
   ],
   "source": [
    "preds = voting_clf.predict(X_test)\n",
    "acc = accuracy_score(y_test, preds)\n",
    "\n",
    "print(\"Precisión: \" + str(acc))"
   ]
  },
  {
   "cell_type": "markdown",
   "metadata": {},
   "source": [
    "## Visualización de la Información\n",
    "\n",
    "### Reporte de Clasificación"
   ]
  },
  {
   "cell_type": "code",
   "execution_count": 29,
   "metadata": {
    "scrolled": true
   },
   "outputs": [
    {
     "name": "stdout",
     "output_type": "stream",
     "text": [
      "              precision    recall  f1-score   support\n",
      "\n",
      "           0       1.00      0.92      0.96        12\n",
      "           1       0.98      0.98      0.98        53\n",
      "           2       1.00      1.00      1.00         4\n",
      "           3       1.00      1.00      1.00         2\n",
      "           4       0.88      0.93      0.90        15\n",
      "           5       0.88      0.88      0.88        17\n",
      "\n",
      "    accuracy                           0.95       103\n",
      "   macro avg       0.96      0.95      0.95       103\n",
      "weighted avg       0.95      0.95      0.95       103\n",
      "\n"
     ]
    }
   ],
   "source": [
    "print(classification_report(y_test, preds))"
   ]
  },
  {
   "cell_type": "markdown",
   "metadata": {},
   "source": [
    "### Matríz de Confusión "
   ]
  },
  {
   "cell_type": "code",
   "execution_count": 30,
   "metadata": {
    "scrolled": false
   },
   "outputs": [
    {
     "data": {
      "image/png": "[encoded data removed]",
      "text/plain": [
       "<Figure size 432x288 with 2 Axes>"
      ]
     },
     "metadata": {},
     "output_type": "display_data"
    }
   ],
   "source": [
    "array = confusion_matrix(y_test, preds)\n",
    "index = array.shape[0]\n",
    "columns = array.shape[1]\n",
    "         \n",
    "df_cm = pd.DataFrame(array, range(index), range(columns))\n",
    "sn.set(font_scale=1.4)\n",
    "sn.heatmap(df_cm, annot=True, annot_kws={\"size\": 16})\n",
    "plt.show()"
   ]
  },
  {
   "cell_type": "markdown",
   "metadata": {},
   "source": [
    "## Límites de Decisión"
   ]
  },
  {
   "cell_type": "markdown",
   "metadata": {},
   "source": [
    "En problemas de clasificación, la predicción de una clase está involucrada entre múltiples clases. En otras palabras, la predicción se puede enmarcar de una manera en que una instancia debe mantenerse debajo de una región particular (que significa la clase) y necesita separarse de otras regiones. Esta separación de otras regiones se puede visualizar mediante un límite conocido como **Límite de decisión**. Esta visualización del Límite de decisión en el espacio de características se realiza en una Gráfica de dispersión, donde cada punto representa un punto de datos de nuestro conjunto de datos y de la misma manera ejes que representan las características. El límite de decisión separa los puntos de datos en regiones, que en realidad son las clases a las que pertenecen.\n",
    "\n",
    "**Observación**\n",
    "\n",
    "Para que esta visualización sea posible es necesario que las características se encuentren un un plano bidimensional, por lo que en nuestro caso particular si se decide trabajar con dos o mas componentes principales no nos será posible ver los límites de decisión. "
   ]
  },
  {
   "cell_type": "code",
   "execution_count": 31,
   "metadata": {},
   "outputs": [
    {
     "data": {
      "image/png": "[encoded data removed]",
      "text/plain": [
       "<Figure size 1080x720 with 4 Axes>"
      ]
     },
     "metadata": {},
     "output_type": "display_data"
    }
   ],
   "source": [
    "if (num_comp == 2):\n",
    "    X = np.array(X_train)\n",
    "    y = np.array(y_train)\n",
    "\n",
    "    # Plotting decision regions\n",
    "    from itertools import product\n",
    "    x_min, x_max = X[:, 0].min() - 1, X[:, 0].max() + 1\n",
    "    y_min, y_max = X[:, 1].min() - 1, X[:, 1].max() + 1\n",
    "    xx, yy = np.meshgrid(np.arange(x_min, x_max, 0.1),\n",
    "                         np.arange(y_min, y_max, 0.1))\n",
    "\n",
    "    f, axarr = plt.subplots(2, 2, sharex='col', sharey='row', figsize=(15, 10))\n",
    "\n",
    "    for idx, clf, tt in zip(product([0, 1], [0, 1]),\n",
    "                            [clf_tree, clf_knn, clf_bayes, voting_clf],\n",
    "                            ['Árbol de Decisión', 'KNN',\n",
    "                             'Bayes', 'Soft Voting']):\n",
    "\n",
    "        Z = clf.predict(np.c_[xx.ravel(), yy.ravel()])\n",
    "        Z = Z.reshape(xx.shape)\n",
    "\n",
    "        axarr[idx[0], idx[1]].contourf(xx, yy, Z, alpha=0.4)\n",
    "        axarr[idx[0], idx[1]].scatter(X[:, 0], X[:, 1], c=y,\n",
    "                                      s=20, edgecolor='k')\n",
    "        axarr[idx[0], idx[1]].set_title(tt)\n",
    "\n",
    "    plt.show()"
   ]
  },
  {
   "cell_type": "markdown",
   "metadata": {},
   "source": [
    "# Conclusión\n",
    "\n",
    "Tras haber experimentado con los distintos tipos de clasificadores se pudo observar que estos varían en su desempeño y por en de en su precisión para determinar la clase de algún elemento, esto nos permite deducir el por que de los métodos de ensamble, al utilizar diferentes algoritmos de clasificación en conjunto nos permite obtener un mejor desempeño en la predicción, algo que sería distinto de manera individual.\n",
    "\n",
    "El método de ensamble por votación es un uno de los métodos más populares y como podemos ver es un método más complejo a diferencia de un promedio simple de los resultados de clasificación, ya que como podemos apreciar, su precisión es más elevada y por lo tanto más óptima. El ensamble nos permite obtener una mejor predicción, combinando diferentes clasificadores para obtener datos más precisos. \n",
    "\n",
    "De esta manera se logró el objetivo del proyecto, el cual involucraba la experimentación con los distintos clasificadores con el fin de observar las diferencias que tienen entre sí, así como encontrar el razonamiento de tras del uso de métodos de ensamble.\n",
    "\n",
    "A lo largo del curso se vieron distintos temas respecto a la materia de Minería de Datos, entre los cuales se encontraban temas como: Ensambles, Redes Bayesianas, Redes Multicapa, etc. Los cuales de manera teórica proporcionaban mucho conocimiento, sin embargo no fue hasta la implementación de este proyecto que el conocimiento adquirido brindo frutos así como un entendimiento mas profundo de los temas. "
   ]
  },
  {
   "cell_type": "markdown",
   "metadata": {},
   "source": [
    "# Referencias"
   ]
  },
  {
   "cell_type": "markdown",
   "metadata": {},
   "source": [
    "* Asiri, S. (2018, June 11). Machine Learning Classifiers. Retrieved from https://towardsdatascience.com/machine-learning-classifiers-a5cc4e1b0623\n",
    "\n",
    "* Chakrabarty, N. (2019, October 12). Decision Boundary Visualization(A-Z). Retrieved from https://towardsdatascience.com/decision-boundary-visualization-a-z-6a63ae9cca7d\n",
    "\n",
    "* Galarnyk, M. (2020, May 1). PCA using Python (scikit-learn). Retrieved from https://towardsdatascience.com/pca-using-python-scikit-learn-e653f8989e60\n",
    "\n",
    "* Li, S. (2017, December 6). Solving A Simple Classification Problem with Python - Fruits Lovers' Edition. Retrieved from https://towardsdatascience.com/solving-a-simple-classification-problem-with-python-fruits-lovers-edition-d20ab6b071d2\n",
    "\n",
    "* Nair, P. (2019, June 12). Hands-on : Outlier Detection and Treatment in Python Using 1.5 IQR rule. Retrieved from https://medium.com/@prashant.nair2050/hands-on-outlier-detection-and-treatment-in-python-using-1-5-iqr-rule-f9ff1961a414\n",
    "\n",
    "* Navlani, A. (2018, December 28). Decision Tree Classification in Python. Retrieved from https://www.datacamp.com/community/tutorials/decision-tree-classification-python\n",
    "\n",
    "*  González, L. (2019, July 2). Creando un clasificador para la flor Iris con Python. Retrieved from https://ligdigonzalez.com/machine-learning-clasificador-flor-iris-python/"
   ]
  }
 ],
 "metadata": {
  "kernelspec": {
   "display_name": "Python 3",
   "language": "python",
   "name": "python3"
  },
  "language_info": {
   "codemirror_mode": {
    "name": "ipython",
    "version": 3
   },
   "file_extension": ".py",
   "mimetype": "text/x-python",
   "name": "python",
   "nbconvert_exporter": "python",
   "pygments_lexer": "ipython3",
   "version": "3.6.9"
  }
 },
 "nbformat": 4,
 "nbformat_minor": 4
}
