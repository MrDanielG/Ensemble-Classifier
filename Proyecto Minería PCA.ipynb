{
 "cells": [
  {
   "cell_type": "markdown",
   "metadata": {},
   "source": [
    "# <p style=\"text-align: center;\">Minería de Datos - PCA Primera Entrega </p>\n",
    "### Alumno: Daniel Garnica Sánchez"
   ]
  },
  {
   "cell_type": "markdown",
   "metadata": {},
   "source": [
    "## Introducción\n",
    "\n",
    "<p style=\"text-align: justify;\">\n",
    "Dentro de la estadística existen diversos problemas y dificultades inherentes, de los cuales uno de los principales es la visualización de datos. Generalmente se nos muestran gráficos de relación entre dos variables, esto quiere decir que ésta información la podemos facilmente visualizar en un plano bidimensional (2D), incluso es posible representar información de relación entre tres variables en un plano tridimensional (3D), sin embargo, ¿Que sucede cuando son mas de tres variables, quizas cuatro, cinco, o treinta? Una manera de resolver el problea es con el Análisis de Componentes Principales por sus siglas PCA. </p>\n",
    "\n",
    "### ¿Qué es PCA?\n",
    "\n",
    "<p style=\"text-align: justify;\">\n",
    "El Análisis de Componentes Principales constituye un procedimiento matemático que permite transformar un número de variables posiblemente correlacionadas en un número menor de variables no correlacionadas, llamadas: Componentes Principales. El primer componente o eje absorbe la mayor cantidad de variabilidad posible del conjunto de datos y cada uno de los componentes restantes absorbe el resto. </p>\n",
    "\n",
    "<p style=\"text-align: justify;\">\n",
    "Básicamente el método genera un nuevo conjunto de variables, denomiadas Componentes Principales, donde cada componente principal es una combinación lineal de las variables originales.</p>\n",
    "\n",
    "<p style=\"text-align: justify;\">    \n",
    "PCA es un método tradicionalmente utilizado para reducir la dimensionalidad de un conjunto de datos. También se utiliza para identificar nuevas variables en un conjunto de datos para una mejor interpretación de los mismos. </p>\n",
    "\n",
    "## Desarrollo\n",
    "\n",
    "<p style=\"text-align: justify;\">  \n",
    "La siguiente entrega desea mostrar el proceso de reducción de dimensionalidad con el procedimiento de PCA a partir de un conjunto de datos con variables de hasta 19 <b>características</b> y una <b>clase</b> </p>\n",
    "\n",
    "A continuación se mostrará el proceso antes mencionado: \n",
    "\n",
    "## Preprocesamiento del archivo\n",
    "\n",
    "Primeramente se debera obtener la información del archivo correspondiente para manipular los metadatos, haciendo referencia a el numero elementos, atributos y clases."
   ]
  },
  {
   "cell_type": "code",
   "execution_count": 2,
   "metadata": {},
   "outputs": [],
   "source": [
    "import pandas as pd \n",
    "import numpy as np\n",
    "import matplotlib.pyplot as plt\n",
    "from sklearn.decomposition import PCA\n",
    "from sklearn.preprocessing import StandardScaler\n",
    "%matplotlib inline"
   ]
  },
  {
   "cell_type": "code",
   "execution_count": 3,
   "metadata": {},
   "outputs": [],
   "source": [
    "archivo = \"datos.txt\""
   ]
  },
  {
   "cell_type": "code",
   "execution_count": 4,
   "metadata": {},
   "outputs": [],
   "source": [
    "df = pd.read_csv(archivo, names = ['A0','A1','A2','A3','A4','A5','A6',\n",
    "                                   'A7','A8','A9','A10','A11','A12',\n",
    "                                   'A13','A14','A15','A16','A17','A18', 'Clase'])"
   ]
  },
  {
   "cell_type": "markdown",
   "metadata": {},
   "source": [
    "### Información Dataset\n",
    "Tras importar las correspondientes librerías e indicar el archivo que deseamos preprocesar, podemos ver una pequeña parte de nuestro dataset"
   ]
  },
  {
   "cell_type": "code",
   "execution_count": 5,
   "metadata": {
    "scrolled": false
   },
   "outputs": [
    {
     "data": {
      "text/html": [
       "<div>\n",
       "<style scoped>\n",
       "    .dataframe tbody tr th:only-of-type {\n",
       "        vertical-align: middle;\n",
       "    }\n",
       "\n",
       "    .dataframe tbody tr th {\n",
       "        vertical-align: top;\n",
       "    }\n",
       "\n",
       "    .dataframe thead th {\n",
       "        text-align: right;\n",
       "    }\n",
       "</style>\n",
       "<table border=\"1\" class=\"dataframe\">\n",
       "  <thead>\n",
       "    <tr style=\"text-align: right;\">\n",
       "      <th></th>\n",
       "      <th>A0</th>\n",
       "      <th>A1</th>\n",
       "      <th>A2</th>\n",
       "      <th>A3</th>\n",
       "      <th>A4</th>\n",
       "      <th>A5</th>\n",
       "      <th>A6</th>\n",
       "      <th>A7</th>\n",
       "      <th>A8</th>\n",
       "      <th>A9</th>\n",
       "      <th>A10</th>\n",
       "      <th>A11</th>\n",
       "      <th>A12</th>\n",
       "      <th>A13</th>\n",
       "      <th>A14</th>\n",
       "      <th>A15</th>\n",
       "      <th>A16</th>\n",
       "      <th>A17</th>\n",
       "      <th>A18</th>\n",
       "      <th>Clase</th>\n",
       "    </tr>\n",
       "  </thead>\n",
       "  <tbody>\n",
       "    <tr>\n",
       "      <th>0</th>\n",
       "      <td>140</td>\n",
       "      <td>125</td>\n",
       "      <td>0</td>\n",
       "      <td>0.0</td>\n",
       "      <td>0.0</td>\n",
       "      <td>0.277778</td>\n",
       "      <td>0.062963</td>\n",
       "      <td>0.666667</td>\n",
       "      <td>0.311111</td>\n",
       "      <td>6.185185</td>\n",
       "      <td>7.333334</td>\n",
       "      <td>7.666666</td>\n",
       "      <td>3.555556</td>\n",
       "      <td>3.444444</td>\n",
       "      <td>4.444445</td>\n",
       "      <td>-7.888889</td>\n",
       "      <td>7.777778</td>\n",
       "      <td>0.545635</td>\n",
       "      <td>-1.121818</td>\n",
       "      <td>0</td>\n",
       "    </tr>\n",
       "    <tr>\n",
       "      <th>1</th>\n",
       "      <td>188</td>\n",
       "      <td>133</td>\n",
       "      <td>0</td>\n",
       "      <td>0.0</td>\n",
       "      <td>0.0</td>\n",
       "      <td>0.333333</td>\n",
       "      <td>0.266667</td>\n",
       "      <td>0.500000</td>\n",
       "      <td>0.077778</td>\n",
       "      <td>6.666666</td>\n",
       "      <td>8.333334</td>\n",
       "      <td>7.777778</td>\n",
       "      <td>3.888889</td>\n",
       "      <td>5.000000</td>\n",
       "      <td>3.333333</td>\n",
       "      <td>-8.333333</td>\n",
       "      <td>8.444445</td>\n",
       "      <td>0.538580</td>\n",
       "      <td>-0.924817</td>\n",
       "      <td>0</td>\n",
       "    </tr>\n",
       "    <tr>\n",
       "      <th>2</th>\n",
       "      <td>105</td>\n",
       "      <td>139</td>\n",
       "      <td>0</td>\n",
       "      <td>0.0</td>\n",
       "      <td>0.0</td>\n",
       "      <td>0.277778</td>\n",
       "      <td>0.107407</td>\n",
       "      <td>0.833333</td>\n",
       "      <td>0.522222</td>\n",
       "      <td>6.111111</td>\n",
       "      <td>7.555555</td>\n",
       "      <td>7.222222</td>\n",
       "      <td>3.555556</td>\n",
       "      <td>4.333334</td>\n",
       "      <td>3.333333</td>\n",
       "      <td>-7.666666</td>\n",
       "      <td>7.555555</td>\n",
       "      <td>0.532628</td>\n",
       "      <td>-0.965946</td>\n",
       "      <td>0</td>\n",
       "    </tr>\n",
       "    <tr>\n",
       "      <th>3</th>\n",
       "      <td>34</td>\n",
       "      <td>137</td>\n",
       "      <td>0</td>\n",
       "      <td>0.0</td>\n",
       "      <td>0.0</td>\n",
       "      <td>0.500000</td>\n",
       "      <td>0.166667</td>\n",
       "      <td>1.111111</td>\n",
       "      <td>0.474074</td>\n",
       "      <td>5.851852</td>\n",
       "      <td>7.777778</td>\n",
       "      <td>6.444445</td>\n",
       "      <td>3.333333</td>\n",
       "      <td>5.777778</td>\n",
       "      <td>1.777778</td>\n",
       "      <td>-7.555555</td>\n",
       "      <td>7.777778</td>\n",
       "      <td>0.573633</td>\n",
       "      <td>-0.744272</td>\n",
       "      <td>0</td>\n",
       "    </tr>\n",
       "    <tr>\n",
       "      <th>4</th>\n",
       "      <td>39</td>\n",
       "      <td>111</td>\n",
       "      <td>0</td>\n",
       "      <td>0.0</td>\n",
       "      <td>0.0</td>\n",
       "      <td>0.722222</td>\n",
       "      <td>0.374074</td>\n",
       "      <td>0.888889</td>\n",
       "      <td>0.429629</td>\n",
       "      <td>6.037037</td>\n",
       "      <td>7.000000</td>\n",
       "      <td>7.666666</td>\n",
       "      <td>3.444444</td>\n",
       "      <td>2.888889</td>\n",
       "      <td>4.888889</td>\n",
       "      <td>-7.777778</td>\n",
       "      <td>7.888889</td>\n",
       "      <td>0.562919</td>\n",
       "      <td>-1.175773</td>\n",
       "      <td>0</td>\n",
       "    </tr>\n",
       "  </tbody>\n",
       "</table>\n",
       "</div>"
      ],
      "text/plain": [
       "    A0   A1  A2   A3   A4        A5        A6        A7        A8        A9  \\\n",
       "0  140  125   0  0.0  0.0  0.277778  0.062963  0.666667  0.311111  6.185185   \n",
       "1  188  133   0  0.0  0.0  0.333333  0.266667  0.500000  0.077778  6.666666   \n",
       "2  105  139   0  0.0  0.0  0.277778  0.107407  0.833333  0.522222  6.111111   \n",
       "3   34  137   0  0.0  0.0  0.500000  0.166667  1.111111  0.474074  5.851852   \n",
       "4   39  111   0  0.0  0.0  0.722222  0.374074  0.888889  0.429629  6.037037   \n",
       "\n",
       "        A10       A11       A12       A13       A14       A15       A16  \\\n",
       "0  7.333334  7.666666  3.555556  3.444444  4.444445 -7.888889  7.777778   \n",
       "1  8.333334  7.777778  3.888889  5.000000  3.333333 -8.333333  8.444445   \n",
       "2  7.555555  7.222222  3.555556  4.333334  3.333333 -7.666666  7.555555   \n",
       "3  7.777778  6.444445  3.333333  5.777778  1.777778 -7.555555  7.777778   \n",
       "4  7.000000  7.666666  3.444444  2.888889  4.888889 -7.777778  7.888889   \n",
       "\n",
       "        A17       A18  Clase  \n",
       "0  0.545635 -1.121818      0  \n",
       "1  0.538580 -0.924817      0  \n",
       "2  0.532628 -0.965946      0  \n",
       "3  0.573633 -0.744272      0  \n",
       "4  0.562919 -1.175773      0  "
      ]
     },
     "execution_count": 5,
     "metadata": {},
     "output_type": "execute_result"
    }
   ],
   "source": [
    "df.head()"
   ]
  },
  {
   "cell_type": "markdown",
   "metadata": {},
   "source": [
    "### Estandarización de Información\n",
    "\n",
    "Dado que PCA produce un subespacio de características que maximiza la varianza a lo largo de los ejes, tiene sentido estandarizar los datos, especialmente si se midieron en diferentes escalas.\n",
    "\n",
    "A continuación se dividirá la información en dos conjuntos, el de las **clases** y el de la **información**, esto para poder estandarizar la información sin tomar en cuenta la clase del elemento. "
   ]
  },
  {
   "cell_type": "code",
   "execution_count": 6,
   "metadata": {},
   "outputs": [],
   "source": [
    "caracteristicas = ['A0','A1','A2','A3','A4','A5','A6','A7','A8','A9','A10','A11','A12','A13','A14','A15','A16','A17','A18']\n",
    "x = df.loc[:,caracteristicas].values"
   ]
  },
  {
   "cell_type": "code",
   "execution_count": 7,
   "metadata": {},
   "outputs": [],
   "source": [
    "y = df.loc[:,['Clase']].values"
   ]
  },
  {
   "cell_type": "code",
   "execution_count": 8,
   "metadata": {},
   "outputs": [],
   "source": [
    "x = StandardScaler().fit_transform(x)"
   ]
  },
  {
   "cell_type": "markdown",
   "metadata": {},
   "source": [
    "### Visualizacion de Información Estandarizada\n",
    "\n",
    "A continuación podemos ver la información estandarizada, la cual podemos notar un cambio en los valores de los atributos."
   ]
  },
  {
   "cell_type": "code",
   "execution_count": 9,
   "metadata": {
    "scrolled": false
   },
   "outputs": [
    {
     "data": {
      "text/html": [
       "<div>\n",
       "<style scoped>\n",
       "    .dataframe tbody tr th:only-of-type {\n",
       "        vertical-align: middle;\n",
       "    }\n",
       "\n",
       "    .dataframe tbody tr th {\n",
       "        vertical-align: top;\n",
       "    }\n",
       "\n",
       "    .dataframe thead th {\n",
       "        text-align: right;\n",
       "    }\n",
       "</style>\n",
       "<table border=\"1\" class=\"dataframe\">\n",
       "  <thead>\n",
       "    <tr style=\"text-align: right;\">\n",
       "      <th></th>\n",
       "      <th>A0</th>\n",
       "      <th>A1</th>\n",
       "      <th>A2</th>\n",
       "      <th>A3</th>\n",
       "      <th>A4</th>\n",
       "      <th>A5</th>\n",
       "      <th>A6</th>\n",
       "      <th>A7</th>\n",
       "      <th>A8</th>\n",
       "      <th>A9</th>\n",
       "      <th>A10</th>\n",
       "      <th>A11</th>\n",
       "      <th>A12</th>\n",
       "      <th>A13</th>\n",
       "      <th>A14</th>\n",
       "      <th>A15</th>\n",
       "      <th>A16</th>\n",
       "      <th>A17</th>\n",
       "      <th>A18</th>\n",
       "    </tr>\n",
       "  </thead>\n",
       "  <tbody>\n",
       "    <tr>\n",
       "      <th>0</th>\n",
       "      <td>-0.058049</td>\n",
       "      <td>-0.285629</td>\n",
       "      <td>0.0</td>\n",
       "      <td>-0.338097</td>\n",
       "      <td>-0.199868</td>\n",
       "      <td>-0.621918</td>\n",
       "      <td>-0.110554</td>\n",
       "      <td>-0.463761</td>\n",
       "      <td>-0.090389</td>\n",
       "      <td>-0.784836</td>\n",
       "      <td>-0.693751</td>\n",
       "      <td>-0.796105</td>\n",
       "      <td>-0.848481</td>\n",
       "      <td>1.511535</td>\n",
       "      <td>-0.712136</td>\n",
       "      <td>-0.070207</td>\n",
       "      <td>-0.849913</td>\n",
       "      <td>0.757935</td>\n",
       "      <td>-0.001032</td>\n",
       "    </tr>\n",
       "    <tr>\n",
       "      <th>1</th>\n",
       "      <td>0.598297</td>\n",
       "      <td>-0.153891</td>\n",
       "      <td>0.0</td>\n",
       "      <td>-0.338097</td>\n",
       "      <td>-0.199868</td>\n",
       "      <td>-0.598559</td>\n",
       "      <td>-0.103935</td>\n",
       "      <td>-0.509463</td>\n",
       "      <td>-0.093776</td>\n",
       "      <td>-0.769504</td>\n",
       "      <td>-0.659068</td>\n",
       "      <td>-0.793056</td>\n",
       "      <td>-0.837138</td>\n",
       "      <td>1.680258</td>\n",
       "      <td>-0.772656</td>\n",
       "      <td>-0.106443</td>\n",
       "      <td>-0.831181</td>\n",
       "      <td>0.724362</td>\n",
       "      <td>0.119387</td>\n",
       "    </tr>\n",
       "    <tr>\n",
       "      <th>2</th>\n",
       "      <td>-0.536634</td>\n",
       "      <td>-0.055087</td>\n",
       "      <td>0.0</td>\n",
       "      <td>-0.338097</td>\n",
       "      <td>-0.199868</td>\n",
       "      <td>-0.621918</td>\n",
       "      <td>-0.109110</td>\n",
       "      <td>-0.418060</td>\n",
       "      <td>-0.087325</td>\n",
       "      <td>-0.787194</td>\n",
       "      <td>-0.686044</td>\n",
       "      <td>-0.808304</td>\n",
       "      <td>-0.848481</td>\n",
       "      <td>1.607948</td>\n",
       "      <td>-0.772656</td>\n",
       "      <td>-0.052089</td>\n",
       "      <td>-0.856157</td>\n",
       "      <td>0.696035</td>\n",
       "      <td>0.094247</td>\n",
       "    </tr>\n",
       "    <tr>\n",
       "      <th>3</th>\n",
       "      <td>-1.507478</td>\n",
       "      <td>-0.088021</td>\n",
       "      <td>0.0</td>\n",
       "      <td>-0.338097</td>\n",
       "      <td>-0.199868</td>\n",
       "      <td>-0.528480</td>\n",
       "      <td>-0.107184</td>\n",
       "      <td>-0.341891</td>\n",
       "      <td>-0.088024</td>\n",
       "      <td>-0.795450</td>\n",
       "      <td>-0.678336</td>\n",
       "      <td>-0.829651</td>\n",
       "      <td>-0.856043</td>\n",
       "      <td>1.764620</td>\n",
       "      <td>-0.857382</td>\n",
       "      <td>-0.043030</td>\n",
       "      <td>-0.849913</td>\n",
       "      <td>0.891177</td>\n",
       "      <td>0.229748</td>\n",
       "    </tr>\n",
       "    <tr>\n",
       "      <th>4</th>\n",
       "      <td>-1.439109</td>\n",
       "      <td>-0.516170</td>\n",
       "      <td>0.0</td>\n",
       "      <td>-0.338097</td>\n",
       "      <td>-0.199868</td>\n",
       "      <td>-0.435042</td>\n",
       "      <td>-0.100444</td>\n",
       "      <td>-0.402826</td>\n",
       "      <td>-0.088669</td>\n",
       "      <td>-0.789553</td>\n",
       "      <td>-0.705312</td>\n",
       "      <td>-0.796105</td>\n",
       "      <td>-0.852262</td>\n",
       "      <td>1.451277</td>\n",
       "      <td>-0.687929</td>\n",
       "      <td>-0.061148</td>\n",
       "      <td>-0.846791</td>\n",
       "      <td>0.840188</td>\n",
       "      <td>-0.034012</td>\n",
       "    </tr>\n",
       "  </tbody>\n",
       "</table>\n",
       "</div>"
      ],
      "text/plain": [
       "         A0        A1   A2        A3        A4        A5        A6        A7  \\\n",
       "0 -0.058049 -0.285629  0.0 -0.338097 -0.199868 -0.621918 -0.110554 -0.463761   \n",
       "1  0.598297 -0.153891  0.0 -0.338097 -0.199868 -0.598559 -0.103935 -0.509463   \n",
       "2 -0.536634 -0.055087  0.0 -0.338097 -0.199868 -0.621918 -0.109110 -0.418060   \n",
       "3 -1.507478 -0.088021  0.0 -0.338097 -0.199868 -0.528480 -0.107184 -0.341891   \n",
       "4 -1.439109 -0.516170  0.0 -0.338097 -0.199868 -0.435042 -0.100444 -0.402826   \n",
       "\n",
       "         A8        A9       A10       A11       A12       A13       A14  \\\n",
       "0 -0.090389 -0.784836 -0.693751 -0.796105 -0.848481  1.511535 -0.712136   \n",
       "1 -0.093776 -0.769504 -0.659068 -0.793056 -0.837138  1.680258 -0.772656   \n",
       "2 -0.087325 -0.787194 -0.686044 -0.808304 -0.848481  1.607948 -0.772656   \n",
       "3 -0.088024 -0.795450 -0.678336 -0.829651 -0.856043  1.764620 -0.857382   \n",
       "4 -0.088669 -0.789553 -0.705312 -0.796105 -0.852262  1.451277 -0.687929   \n",
       "\n",
       "        A15       A16       A17       A18  \n",
       "0 -0.070207 -0.849913  0.757935 -0.001032  \n",
       "1 -0.106443 -0.831181  0.724362  0.119387  \n",
       "2 -0.052089 -0.856157  0.696035  0.094247  \n",
       "3 -0.043030 -0.849913  0.891177  0.229748  \n",
       "4 -0.061148 -0.846791  0.840188 -0.034012  "
      ]
     },
     "execution_count": 9,
     "metadata": {},
     "output_type": "execute_result"
    }
   ],
   "source": [
    "pd.DataFrame(data = x, columns = caracteristicas).head()"
   ]
  },
  {
   "cell_type": "markdown",
   "metadata": {},
   "source": [
    "### Proyección de datos con PCA\n",
    "\n",
    "Tras haber estandarizado nuestro dataset podemos proceder a realizar PCA, donde indicamos el numero de componentes que deseamos, para posteriormente visualizar la información en manera gráfica."
   ]
  },
  {
   "cell_type": "code",
   "execution_count": 10,
   "metadata": {},
   "outputs": [],
   "source": [
    "pca = PCA(n_components = 2)"
   ]
  },
  {
   "cell_type": "code",
   "execution_count": 11,
   "metadata": {},
   "outputs": [],
   "source": [
    "componentesPrincipales = pca.fit_transform(x)"
   ]
  },
  {
   "cell_type": "code",
   "execution_count": 12,
   "metadata": {},
   "outputs": [],
   "source": [
    "principalDf = pd.DataFrame(data = componentesPrincipales, columns = ['PC1', 'PC2'])"
   ]
  },
  {
   "cell_type": "markdown",
   "metadata": {},
   "source": [
    "### Visualización de Componetes Principales\n",
    "\n",
    "Tras haber aplicado PCA en nuestro dataset, podemos ver el numero de componentes principales mostrandonos como las dimensiones han sido reducidas."
   ]
  },
  {
   "cell_type": "code",
   "execution_count": 13,
   "metadata": {
    "scrolled": true
   },
   "outputs": [
    {
     "data": {
      "text/html": [
       "<div>\n",
       "<style scoped>\n",
       "    .dataframe tbody tr th:only-of-type {\n",
       "        vertical-align: middle;\n",
       "    }\n",
       "\n",
       "    .dataframe tbody tr th {\n",
       "        vertical-align: top;\n",
       "    }\n",
       "\n",
       "    .dataframe thead th {\n",
       "        text-align: right;\n",
       "    }\n",
       "</style>\n",
       "<table border=\"1\" class=\"dataframe\">\n",
       "  <thead>\n",
       "    <tr style=\"text-align: right;\">\n",
       "      <th></th>\n",
       "      <th>PC1</th>\n",
       "      <th>PC2</th>\n",
       "    </tr>\n",
       "  </thead>\n",
       "  <tbody>\n",
       "    <tr>\n",
       "      <th>0</th>\n",
       "      <td>-2.299677</td>\n",
       "      <td>-0.343837</td>\n",
       "    </tr>\n",
       "    <tr>\n",
       "      <th>1</th>\n",
       "      <td>-2.371925</td>\n",
       "      <td>-0.403867</td>\n",
       "    </tr>\n",
       "    <tr>\n",
       "      <th>2</th>\n",
       "      <td>-2.389590</td>\n",
       "      <td>-0.266572</td>\n",
       "    </tr>\n",
       "    <tr>\n",
       "      <th>3</th>\n",
       "      <td>-2.514506</td>\n",
       "      <td>-0.096834</td>\n",
       "    </tr>\n",
       "    <tr>\n",
       "      <th>4</th>\n",
       "      <td>-2.236746</td>\n",
       "      <td>-0.124341</td>\n",
       "    </tr>\n",
       "  </tbody>\n",
       "</table>\n",
       "</div>"
      ],
      "text/plain": [
       "        PC1       PC2\n",
       "0 -2.299677 -0.343837\n",
       "1 -2.371925 -0.403867\n",
       "2 -2.389590 -0.266572\n",
       "3 -2.514506 -0.096834\n",
       "4 -2.236746 -0.124341"
      ]
     },
     "execution_count": 13,
     "metadata": {},
     "output_type": "execute_result"
    }
   ],
   "source": [
    "principalDf.head(5)"
   ]
  },
  {
   "cell_type": "markdown",
   "metadata": {},
   "source": [
    "De la misma manera visualizamos la información del nuestro conjunto con la información de las clases. Cabe recalcar que a la información de las clases **no** se ha estandarizado **ni** aplicado PCA."
   ]
  },
  {
   "cell_type": "code",
   "execution_count": 14,
   "metadata": {
    "scrolled": true
   },
   "outputs": [
    {
     "data": {
      "text/html": [
       "<div>\n",
       "<style scoped>\n",
       "    .dataframe tbody tr th:only-of-type {\n",
       "        vertical-align: middle;\n",
       "    }\n",
       "\n",
       "    .dataframe tbody tr th {\n",
       "        vertical-align: top;\n",
       "    }\n",
       "\n",
       "    .dataframe thead th {\n",
       "        text-align: right;\n",
       "    }\n",
       "</style>\n",
       "<table border=\"1\" class=\"dataframe\">\n",
       "  <thead>\n",
       "    <tr style=\"text-align: right;\">\n",
       "      <th></th>\n",
       "      <th>Clase</th>\n",
       "    </tr>\n",
       "  </thead>\n",
       "  <tbody>\n",
       "    <tr>\n",
       "      <th>0</th>\n",
       "      <td>0</td>\n",
       "    </tr>\n",
       "    <tr>\n",
       "      <th>1</th>\n",
       "      <td>0</td>\n",
       "    </tr>\n",
       "    <tr>\n",
       "      <th>2</th>\n",
       "      <td>0</td>\n",
       "    </tr>\n",
       "    <tr>\n",
       "      <th>3</th>\n",
       "      <td>0</td>\n",
       "    </tr>\n",
       "    <tr>\n",
       "      <th>4</th>\n",
       "      <td>0</td>\n",
       "    </tr>\n",
       "  </tbody>\n",
       "</table>\n",
       "</div>"
      ],
      "text/plain": [
       "   Clase\n",
       "0      0\n",
       "1      0\n",
       "2      0\n",
       "3      0\n",
       "4      0"
      ]
     },
     "execution_count": 14,
     "metadata": {},
     "output_type": "execute_result"
    }
   ],
   "source": [
    "df[['Clase']].head()"
   ]
  },
  {
   "cell_type": "markdown",
   "metadata": {},
   "source": [
    "Finalmente podemos agregar la clase a nuestro dataset con dimensionalidad reducida."
   ]
  },
  {
   "cell_type": "code",
   "execution_count": 15,
   "metadata": {},
   "outputs": [
    {
     "data": {
      "text/html": [
       "<div>\n",
       "<style scoped>\n",
       "    .dataframe tbody tr th:only-of-type {\n",
       "        vertical-align: middle;\n",
       "    }\n",
       "\n",
       "    .dataframe tbody tr th {\n",
       "        vertical-align: top;\n",
       "    }\n",
       "\n",
       "    .dataframe thead th {\n",
       "        text-align: right;\n",
       "    }\n",
       "</style>\n",
       "<table border=\"1\" class=\"dataframe\">\n",
       "  <thead>\n",
       "    <tr style=\"text-align: right;\">\n",
       "      <th></th>\n",
       "      <th>PC1</th>\n",
       "      <th>PC2</th>\n",
       "      <th>Clase</th>\n",
       "    </tr>\n",
       "  </thead>\n",
       "  <tbody>\n",
       "    <tr>\n",
       "      <th>0</th>\n",
       "      <td>-2.299677</td>\n",
       "      <td>-0.343837</td>\n",
       "      <td>0</td>\n",
       "    </tr>\n",
       "    <tr>\n",
       "      <th>1</th>\n",
       "      <td>-2.371925</td>\n",
       "      <td>-0.403867</td>\n",
       "      <td>0</td>\n",
       "    </tr>\n",
       "    <tr>\n",
       "      <th>2</th>\n",
       "      <td>-2.389590</td>\n",
       "      <td>-0.266572</td>\n",
       "      <td>0</td>\n",
       "    </tr>\n",
       "    <tr>\n",
       "      <th>3</th>\n",
       "      <td>-2.514506</td>\n",
       "      <td>-0.096834</td>\n",
       "      <td>0</td>\n",
       "    </tr>\n",
       "    <tr>\n",
       "      <th>4</th>\n",
       "      <td>-2.236746</td>\n",
       "      <td>-0.124341</td>\n",
       "      <td>0</td>\n",
       "    </tr>\n",
       "  </tbody>\n",
       "</table>\n",
       "</div>"
      ],
      "text/plain": [
       "        PC1       PC2  Clase\n",
       "0 -2.299677 -0.343837      0\n",
       "1 -2.371925 -0.403867      0\n",
       "2 -2.389590 -0.266572      0\n",
       "3 -2.514506 -0.096834      0\n",
       "4 -2.236746 -0.124341      0"
      ]
     },
     "execution_count": 15,
     "metadata": {},
     "output_type": "execute_result"
    }
   ],
   "source": [
    "finalDf = pd.concat([principalDf, df[['Clase']]], axis = 1)\n",
    "finalDf.head(5)"
   ]
  },
  {
   "cell_type": "markdown",
   "metadata": {},
   "source": [
    "### Graficación de la Información\n",
    "\n",
    "Tras haber reducido las dimensiones de nuestro dataset nos es posible graficarlo en un plano 2D como se muestra a continuación."
   ]
  },
  {
   "cell_type": "code",
   "execution_count": 16,
   "metadata": {},
   "outputs": [
    {
     "data": {
      "image/png": "[encoded data removed]",
      "text/plain": [
       "<matplotlib.figure.Figure at 0x7fe339bc9828>"
      ]
     },
     "metadata": {
      "needs_background": "light"
     },
     "output_type": "display_data"
    }
   ],
   "source": [
    "fig = plt.figure(figsize = (8,8))\n",
    "ax = fig.add_subplot(1,1,1) \n",
    "ax.set_xlabel('PC1', fontsize = 15)\n",
    "ax.set_ylabel('PC2', fontsize = 15)\n",
    "ax.set_title('PCA 2 Componentes', fontsize = 20)\n",
    "\n",
    "\n",
    "clases = [0,1,2,3,4,5,6,7]\n",
    "colors = ['r', 'g', 'b', 'c', 'm', 'y', 'k']\n",
    "for clase, color in zip(clases,colors):\n",
    "    indicesToKeep = finalDf['Clase'] == clase\n",
    "    ax.scatter(finalDf.loc[indicesToKeep, 'PC1']\n",
    "               , finalDf.loc[indicesToKeep, 'PC2']\n",
    "               , c = color\n",
    "               , s = 50)\n",
    "ax.legend(clases)\n",
    "ax.grid()"
   ]
  },
  {
   "cell_type": "markdown",
   "metadata": {},
   "source": [
    "## Conclusión \n",
    "\n",
    "<p style=\"text-align: justify;\">\n",
    "El análisis de componentes principales es un método cuantitativamente riguroso para lograr la reducción de dimensionalidad. El método nos brinda información no redundante y la capacidad de graficar de manera mas simple y entendible nuestra información, por lo que en diversas areas del uso de la estadistica y análisis de datos, es un método esencial.  </p>"
   ]
  },
  {
   "cell_type": "markdown",
   "metadata": {},
   "source": [
    "## Detección y Eliminación de Outliers"
   ]
  },
  {
   "cell_type": "code",
   "execution_count": 22,
   "metadata": {},
   "outputs": [
    {
     "data": {
      "text/plain": [
       "<matplotlib.axes._subplots.AxesSubplot at 0x7fe3399310f0>"
      ]
     },
     "execution_count": 22,
     "metadata": {},
     "output_type": "execute_result"
    },
    {
     "data": {
      "image/png": "[encoded data removed]",
      "text/plain": [
       "<matplotlib.figure.Figure at 0x7fe3398aa630>"
      ]
     },
     "metadata": {
      "needs_background": "light"
     },
     "output_type": "display_data"
    }
   ],
   "source": [
    "import seaborn as sb\n",
    "\n",
    "sb.boxplot(y = finalDf['PC1'])"
   ]
  },
  {
   "cell_type": "code",
   "execution_count": 23,
   "metadata": {},
   "outputs": [
    {
     "data": {
      "text/plain": [
       "<matplotlib.axes._subplots.AxesSubplot at 0x7fe339825278>"
      ]
     },
     "execution_count": 23,
     "metadata": {},
     "output_type": "execute_result"
    },
    {
     "data": {
      "image/png": "[encoded data removed]",
      "text/plain": [
       "<matplotlib.figure.Figure at 0x7fe339880b70>"
      ]
     },
     "metadata": {
      "needs_background": "light"
     },
     "output_type": "display_data"
    }
   ],
   "source": [
    "sb.boxplot(y = finalDf['PC2'])"
   ]
  },
  {
   "cell_type": "code",
   "execution_count": 24,
   "metadata": {},
   "outputs": [],
   "source": [
    "def outlierTratamiento(columna):\n",
    "    sorted(columna)\n",
    "    Q1,Q3 = np.percentile(columna , [25,75])\n",
    "    IQR = Q3 - Q1\n",
    "    rangoInferior = Q1 - (1.5 * IQR)\n",
    "    rangoSuperior = Q3 + (1.5 * IQR)\n",
    "    return rangoInferior,rangoSuperior"
   ]
  },
  {
   "cell_type": "code",
   "execution_count": 26,
   "metadata": {},
   "outputs": [
    {
     "name": "stdout",
     "output_type": "stream",
     "text": [
      "-1.46719320051 1.17855398277\n"
     ]
    }
   ],
   "source": [
    "limiteInf,limiteSup = outlierTratamiento(finalDf.PC2)\n",
    "print(limiteInf, limiteSup)"
   ]
  },
  {
   "cell_type": "code",
   "execution_count": 28,
   "metadata": {},
   "outputs": [
    {
     "data": {
      "text/html": [
       "<div>\n",
       "<style scoped>\n",
       "    .dataframe tbody tr th:only-of-type {\n",
       "        vertical-align: middle;\n",
       "    }\n",
       "\n",
       "    .dataframe tbody tr th {\n",
       "        vertical-align: top;\n",
       "    }\n",
       "\n",
       "    .dataframe thead th {\n",
       "        text-align: right;\n",
       "    }\n",
       "</style>\n",
       "<table border=\"1\" class=\"dataframe\">\n",
       "  <thead>\n",
       "    <tr style=\"text-align: right;\">\n",
       "      <th></th>\n",
       "      <th>PC1</th>\n",
       "      <th>PC2</th>\n",
       "      <th>Clase</th>\n",
       "    </tr>\n",
       "  </thead>\n",
       "  <tbody>\n",
       "    <tr>\n",
       "      <th>30</th>\n",
       "      <td>7.088319</td>\n",
       "      <td>-1.560816</td>\n",
       "      <td>5</td>\n",
       "    </tr>\n",
       "    <tr>\n",
       "      <th>31</th>\n",
       "      <td>6.653630</td>\n",
       "      <td>-1.589645</td>\n",
       "      <td>5</td>\n",
       "    </tr>\n",
       "    <tr>\n",
       "      <th>32</th>\n",
       "      <td>6.754232</td>\n",
       "      <td>-1.498079</td>\n",
       "      <td>5</td>\n",
       "    </tr>\n",
       "    <tr>\n",
       "      <th>34</th>\n",
       "      <td>7.097352</td>\n",
       "      <td>-1.683036</td>\n",
       "      <td>5</td>\n",
       "    </tr>\n",
       "    <tr>\n",
       "      <th>35</th>\n",
       "      <td>7.072242</td>\n",
       "      <td>-1.571110</td>\n",
       "      <td>5</td>\n",
       "    </tr>\n",
       "  </tbody>\n",
       "</table>\n",
       "</div>"
      ],
      "text/plain": [
       "         PC1       PC2  Clase\n",
       "30  7.088319 -1.560816      5\n",
       "31  6.653630 -1.589645      5\n",
       "32  6.754232 -1.498079      5\n",
       "34  7.097352 -1.683036      5\n",
       "35  7.072242 -1.571110      5"
      ]
     },
     "execution_count": 28,
     "metadata": {},
     "output_type": "execute_result"
    }
   ],
   "source": [
    "finalDf[(finalDf.PC2 < limiteInf) | (finalDf.PC2 > limiteSup)].head()"
   ]
  },
  {
   "cell_type": "code",
   "execution_count": 29,
   "metadata": {},
   "outputs": [],
   "source": [
    "dataFinal = finalDf\n",
    "dataFinal.drop(dataFinal[(dataFinal.PC2 < limiteInf) | (dataFinal.PC2 > limiteSup)].index , inplace=True)"
   ]
  },
  {
   "cell_type": "code",
   "execution_count": 30,
   "metadata": {},
   "outputs": [
    {
     "data": {
      "text/plain": [
       "<matplotlib.axes._subplots.AxesSubplot at 0x7fe3397aae10>"
      ]
     },
     "execution_count": 30,
     "metadata": {},
     "output_type": "execute_result"
    },
    {
     "data": {
      "image/png": "[encoded data removed]",
      "text/plain": [
       "<matplotlib.figure.Figure at 0x7fe339b18dd8>"
      ]
     },
     "metadata": {
      "needs_background": "light"
     },
     "output_type": "display_data"
    }
   ],
   "source": [
    "sb.boxplot(y = finalDf['PC2'])"
   ]
  },
  {
   "cell_type": "code",
   "execution_count": 31,
   "metadata": {},
   "outputs": [
    {
     "data": {
      "text/html": [
       "<div>\n",
       "<style scoped>\n",
       "    .dataframe tbody tr th:only-of-type {\n",
       "        vertical-align: middle;\n",
       "    }\n",
       "\n",
       "    .dataframe tbody tr th {\n",
       "        vertical-align: top;\n",
       "    }\n",
       "\n",
       "    .dataframe thead th {\n",
       "        text-align: right;\n",
       "    }\n",
       "</style>\n",
       "<table border=\"1\" class=\"dataframe\">\n",
       "  <thead>\n",
       "    <tr style=\"text-align: right;\">\n",
       "      <th></th>\n",
       "      <th>PC1</th>\n",
       "      <th>PC2</th>\n",
       "      <th>Clase</th>\n",
       "    </tr>\n",
       "  </thead>\n",
       "  <tbody>\n",
       "  </tbody>\n",
       "</table>\n",
       "</div>"
      ],
      "text/plain": [
       "Empty DataFrame\n",
       "Columns: [PC1, PC2, Clase]\n",
       "Index: []"
      ]
     },
     "execution_count": 31,
     "metadata": {},
     "output_type": "execute_result"
    }
   ],
   "source": [
    "dataFinal[(dataFinal.PC2 < limiteInf) | (dataFinal.PC2 > limiteSup)]"
   ]
  },
  {
   "cell_type": "code",
   "execution_count": 37,
   "metadata": {},
   "outputs": [
    {
     "data": {
      "image/png": "[encoded data removed]",
      "text/plain": [
       "<matplotlib.figure.Figure at 0x7fe3394c74a8>"
      ]
     },
     "metadata": {
      "needs_background": "light"
     },
     "output_type": "display_data"
    }
   ],
   "source": [
    "fig = plt.figure(figsize = (8,8))\n",
    "ax = fig.add_subplot(1,1,1) \n",
    "ax.set_xlabel('PC1', fontsize = 15)\n",
    "ax.set_ylabel('PC2', fontsize = 15)\n",
    "ax.set_title('Gráfica Sin Outliers', fontsize = 20)\n",
    "\n",
    "\n",
    "clases = [0,1,2,3,4,5,6,7]\n",
    "colors = ['#78FF8F', '#FF8599', '#53E2FF', '#FFF752', '#FF8F08', '#B33C39', '#0165B3']\n",
    "for clase, color in zip(clases,colors):\n",
    "    indicesToKeep = dataFinal['Clase'] == clase\n",
    "    ax.scatter(dataFinal.loc[indicesToKeep, 'PC1']\n",
    "               , dataFinal.loc[indicesToKeep, 'PC2']\n",
    "               , c = color\n",
    "               , s = 50)\n",
    "ax.legend(clases)\n",
    "ax.grid()"
   ]
  },
  {
   "cell_type": "code",
   "execution_count": null,
   "metadata": {},
   "outputs": [],
   "source": []
  }
 ],
 "metadata": {
  "kernelspec": {
   "display_name": "Python 3",
   "language": "python",
   "name": "python3"
  },
  "language_info": {
   "codemirror_mode": {
    "name": "ipython",
    "version": 3
   },
   "file_extension": ".py",
   "mimetype": "text/x-python",
   "name": "python",
   "nbconvert_exporter": "python",
   "pygments_lexer": "ipython3",
   "version": "3.6.9"
  }
 },
 "nbformat": 4,
 "nbformat_minor": 4
}
