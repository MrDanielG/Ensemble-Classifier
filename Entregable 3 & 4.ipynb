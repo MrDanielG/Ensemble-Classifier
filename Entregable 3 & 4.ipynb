{
 "cells": [
  {
   "cell_type": "markdown",
   "metadata": {},
   "source": [
    "<h1 style=\"text-align: center;\">Minería de Datos</h1>\n",
    "\n",
    "<h2>Tercera y Cuarta Entrega: Clasificadores y Ensamble</h2>\n",
    "\n",
    "**Alumno:** Daniel Garnica Sánchez"
   ]
  },
  {
   "cell_type": "markdown",
   "metadata": {},
   "source": [
    "**Índice**\n",
    "\n",
    "* Tercera Entrega\n",
    "    * Introducción\n",
    "        * ¿Qué es un Ensamble?\n",
    "    * Objetivos\n",
    "    * Desarrollo\n",
    "        * Preprocesamiento de Datos\n",
    "        * Estandarización de Datos\n",
    "        * PCA\n",
    "    * Clasificadores de Información\n",
    "        * Naive Bayes\n",
    "        * Árbol de Decisión\n",
    "        * KNN"
   ]
  },
  {
   "cell_type": "markdown",
   "metadata": {},
   "source": [
    "* Cuarta Entrega\n",
    "    * Ensamble de Clasificadores\n",
    "    * Promedio de Predicciones\n",
    "    * Método de Votación\n",
    "    * Predicción y Resultados\n",
    "    * Conclusión"
   ]
  },
  {
   "cell_type": "markdown",
   "metadata": {},
   "source": [
    "# Introducción\n",
    "\n"
   ]
  },
  {
   "cell_type": "markdown",
   "metadata": {},
   "source": [
    "A lo largo de las anteriores entregas se ha ido explorando continuamente diferentes técnicas para la trata de información, tales como el preprocesamiento, donde se prepara la información para ser procesada con métodos como la estandarización de datos, la detección y eliminación de outliers, etc. \n",
    "\n",
    "\n",
    "De la misma manera se trabajo con el Análisis de Componentes Principales, el cual constituye un procedimiento matemático que permite transformar un número de variables posiblemente correlacionadas en un número menor de variables no correlacionadas, llamadas: Componentes Principales. Esto con el fin de reducir la dimensionalidad de nuestra información. \n",
    "\n",
    "\n",
    "Posteriormente se entrenó un clasificador de tipo Árbol, donde nuestro dataset se dividió en dos conjuntos, uno de entrenamiento y otro de prueba, para posteriormente obtener la precisión del clasificador. \n",
    "\n",
    "\n",
    "El siguiente paso es formar un ensamble de clasificadores."
   ]
  },
  {
   "cell_type": "markdown",
   "metadata": {},
   "source": [
    "## ¿Qué es un Ensamble?"
   ]
  },
  {
   "cell_type": "markdown",
   "metadata": {},
   "source": [
    "Como sabemos los clasificadores nos permiten hacer un análisis y una predicción de la clase de nuestra información. Un clasificador utiliza un conjunto de entrenamiento para comprender como los atributos se relacionan con las clases y una vez que ha sido entrenado puede utilizarse para detectar algún nuevo caso o hacer predicciones. \n",
    "\n",
    "Un ensamble es un conjunto de clasificadores que nos permite combinar múltiples hipótesis para formar una hipótesis mejor y más precisa. Básicamente los métodos de ensamble son técnicas que nos permite combinar varios algoritmos de aprendizaje para construir un algoritmo más poderoso y por ende más preciso para obtener un mejor desempeño en la predicción."
   ]
  },
  {
   "cell_type": "markdown",
   "metadata": {},
   "source": [
    "# Objetivos"
   ]
  },
  {
   "cell_type": "markdown",
   "metadata": {},
   "source": [
    "El objetivo de esta entrega es mostrar los diferentes tipos clasificadores que se utilizarán para la creación de mi ensamble. \n",
    "\n",
    "Anteriormente se había trabajado con el clasificador de Árbol de Decisión por lo que se decidió incluirlo para la creación del ensamble."
   ]
  },
  {
   "cell_type": "markdown",
   "metadata": {},
   "source": [
    "# Desarrollo"
   ]
  },
  {
   "cell_type": "markdown",
   "metadata": {},
   "source": [
    "A continuación se mostrará el proceso para la creación los clasificadores así como su entrenamiento y su precisión conforme al segundo conjunto de datos que se nos brindó, el cual cuenta con muchos más atributos."
   ]
  },
  {
   "cell_type": "code",
   "execution_count": 1,
   "metadata": {},
   "outputs": [],
   "source": [
    "import pandas as pd \n",
    "import numpy as np\n",
    "import matplotlib.pyplot as plt\n",
    "from sklearn.decomposition import PCA\n",
    "from sklearn.preprocessing import StandardScaler\n",
    "%matplotlib inline"
   ]
  },
  {
   "cell_type": "markdown",
   "metadata": {},
   "source": [
    "## Preprocesamiento de Datos"
   ]
  },
  {
   "cell_type": "markdown",
   "metadata": {},
   "source": [
    "Para obtener resultados más satisfactorios en nuestros clasificadores es necesario hacer un preprocesamiento de la información, es por eso que este apartado mostrará el desarrollo de esto, sin embargo no se entrará mucho en detalle, ya que es un proceso que se ha mostrado anteriormente en las demás entregas. "
   ]
  },
  {
   "cell_type": "code",
   "execution_count": 2,
   "metadata": {},
   "outputs": [],
   "source": [
    "info = 'data385Attrib.txt'\n",
    "\n",
    "with open(info, \"r\") as archivo:\n",
    "    numElementos = int(archivo.readline())\n",
    "    numAtributos = int(archivo.readline())\n",
    "    numClases = int(archivo.readline())\n",
    "    \n",
    "    atributos = []\n",
    "    \n",
    "    for i in range(0, numAtributos):\n",
    "        atributos.append(\"A\" + str(i+1))\n",
    "\n",
    "    atributos.append(\"Clase\")\n",
    "    \n",
    "    data = pd.read_csv(archivo, delimiter=',', header=None)\n",
    "    data.columns = atributos"
   ]
  },
  {
   "cell_type": "code",
   "execution_count": 3,
   "metadata": {
    "scrolled": false
   },
   "outputs": [
    {
     "data": {
      "text/html": [
       "<div>\n",
       "<style scoped>\n",
       "    .dataframe tbody tr th:only-of-type {\n",
       "        vertical-align: middle;\n",
       "    }\n",
       "\n",
       "    .dataframe tbody tr th {\n",
       "        vertical-align: top;\n",
       "    }\n",
       "\n",
       "    .dataframe thead th {\n",
       "        text-align: right;\n",
       "    }\n",
       "</style>\n",
       "<table border=\"1\" class=\"dataframe\">\n",
       "  <thead>\n",
       "    <tr style=\"text-align: right;\">\n",
       "      <th></th>\n",
       "      <th>A1</th>\n",
       "      <th>A2</th>\n",
       "      <th>A3</th>\n",
       "      <th>A4</th>\n",
       "      <th>A5</th>\n",
       "      <th>A6</th>\n",
       "      <th>A7</th>\n",
       "      <th>A8</th>\n",
       "      <th>A9</th>\n",
       "      <th>A10</th>\n",
       "      <th>...</th>\n",
       "      <th>A377</th>\n",
       "      <th>A378</th>\n",
       "      <th>A379</th>\n",
       "      <th>A380</th>\n",
       "      <th>A381</th>\n",
       "      <th>A382</th>\n",
       "      <th>A383</th>\n",
       "      <th>A384</th>\n",
       "      <th>A385</th>\n",
       "      <th>Clase</th>\n",
       "    </tr>\n",
       "  </thead>\n",
       "  <tbody>\n",
       "    <tr>\n",
       "      <th>0</th>\n",
       "      <td>0.0</td>\n",
       "      <td>0.0</td>\n",
       "      <td>0.0</td>\n",
       "      <td>0.0</td>\n",
       "      <td>0.0</td>\n",
       "      <td>0.0</td>\n",
       "      <td>-0.25</td>\n",
       "      <td>-0.25</td>\n",
       "      <td>-0.25</td>\n",
       "      <td>-0.25</td>\n",
       "      <td>...</td>\n",
       "      <td>0.980381</td>\n",
       "      <td>0.0</td>\n",
       "      <td>0.0</td>\n",
       "      <td>0.0</td>\n",
       "      <td>0.0</td>\n",
       "      <td>0.0</td>\n",
       "      <td>-0.25</td>\n",
       "      <td>-0.25</td>\n",
       "      <td>21.803851</td>\n",
       "      <td>0</td>\n",
       "    </tr>\n",
       "    <tr>\n",
       "      <th>1</th>\n",
       "      <td>0.0</td>\n",
       "      <td>0.0</td>\n",
       "      <td>0.0</td>\n",
       "      <td>0.0</td>\n",
       "      <td>0.0</td>\n",
       "      <td>0.0</td>\n",
       "      <td>-0.25</td>\n",
       "      <td>-0.25</td>\n",
       "      <td>-0.25</td>\n",
       "      <td>-0.25</td>\n",
       "      <td>...</td>\n",
       "      <td>0.977008</td>\n",
       "      <td>0.0</td>\n",
       "      <td>0.0</td>\n",
       "      <td>0.0</td>\n",
       "      <td>0.0</td>\n",
       "      <td>0.0</td>\n",
       "      <td>-0.25</td>\n",
       "      <td>-0.25</td>\n",
       "      <td>21.745726</td>\n",
       "      <td>0</td>\n",
       "    </tr>\n",
       "    <tr>\n",
       "      <th>2</th>\n",
       "      <td>0.0</td>\n",
       "      <td>0.0</td>\n",
       "      <td>0.0</td>\n",
       "      <td>0.0</td>\n",
       "      <td>0.0</td>\n",
       "      <td>0.0</td>\n",
       "      <td>-0.25</td>\n",
       "      <td>-0.25</td>\n",
       "      <td>-0.25</td>\n",
       "      <td>-0.25</td>\n",
       "      <td>...</td>\n",
       "      <td>0.977008</td>\n",
       "      <td>0.0</td>\n",
       "      <td>0.0</td>\n",
       "      <td>0.0</td>\n",
       "      <td>0.0</td>\n",
       "      <td>0.0</td>\n",
       "      <td>-0.25</td>\n",
       "      <td>-0.25</td>\n",
       "      <td>21.687600</td>\n",
       "      <td>0</td>\n",
       "    </tr>\n",
       "    <tr>\n",
       "      <th>3</th>\n",
       "      <td>0.0</td>\n",
       "      <td>0.0</td>\n",
       "      <td>0.0</td>\n",
       "      <td>0.0</td>\n",
       "      <td>0.0</td>\n",
       "      <td>0.0</td>\n",
       "      <td>-0.25</td>\n",
       "      <td>-0.25</td>\n",
       "      <td>-0.25</td>\n",
       "      <td>-0.25</td>\n",
       "      <td>...</td>\n",
       "      <td>0.977008</td>\n",
       "      <td>0.0</td>\n",
       "      <td>0.0</td>\n",
       "      <td>0.0</td>\n",
       "      <td>0.0</td>\n",
       "      <td>0.0</td>\n",
       "      <td>-0.25</td>\n",
       "      <td>-0.25</td>\n",
       "      <td>21.629474</td>\n",
       "      <td>0</td>\n",
       "    </tr>\n",
       "    <tr>\n",
       "      <th>4</th>\n",
       "      <td>0.0</td>\n",
       "      <td>0.0</td>\n",
       "      <td>0.0</td>\n",
       "      <td>0.0</td>\n",
       "      <td>0.0</td>\n",
       "      <td>0.0</td>\n",
       "      <td>-0.25</td>\n",
       "      <td>-0.25</td>\n",
       "      <td>-0.25</td>\n",
       "      <td>-0.25</td>\n",
       "      <td>...</td>\n",
       "      <td>0.976833</td>\n",
       "      <td>0.0</td>\n",
       "      <td>0.0</td>\n",
       "      <td>0.0</td>\n",
       "      <td>0.0</td>\n",
       "      <td>0.0</td>\n",
       "      <td>-0.25</td>\n",
       "      <td>-0.25</td>\n",
       "      <td>21.571348</td>\n",
       "      <td>0</td>\n",
       "    </tr>\n",
       "  </tbody>\n",
       "</table>\n",
       "<p>5 rows × 386 columns</p>\n",
       "</div>"
      ],
      "text/plain": [
       "    A1   A2   A3   A4   A5   A6    A7    A8    A9   A10  ...      A377  A378  \\\n",
       "0  0.0  0.0  0.0  0.0  0.0  0.0 -0.25 -0.25 -0.25 -0.25  ...  0.980381   0.0   \n",
       "1  0.0  0.0  0.0  0.0  0.0  0.0 -0.25 -0.25 -0.25 -0.25  ...  0.977008   0.0   \n",
       "2  0.0  0.0  0.0  0.0  0.0  0.0 -0.25 -0.25 -0.25 -0.25  ...  0.977008   0.0   \n",
       "3  0.0  0.0  0.0  0.0  0.0  0.0 -0.25 -0.25 -0.25 -0.25  ...  0.977008   0.0   \n",
       "4  0.0  0.0  0.0  0.0  0.0  0.0 -0.25 -0.25 -0.25 -0.25  ...  0.976833   0.0   \n",
       "\n",
       "   A379  A380  A381  A382  A383  A384       A385  Clase  \n",
       "0   0.0   0.0   0.0   0.0 -0.25 -0.25  21.803851      0  \n",
       "1   0.0   0.0   0.0   0.0 -0.25 -0.25  21.745726      0  \n",
       "2   0.0   0.0   0.0   0.0 -0.25 -0.25  21.687600      0  \n",
       "3   0.0   0.0   0.0   0.0 -0.25 -0.25  21.629474      0  \n",
       "4   0.0   0.0   0.0   0.0 -0.25 -0.25  21.571348      0  \n",
       "\n",
       "[5 rows x 386 columns]"
      ]
     },
     "execution_count": 3,
     "metadata": {},
     "output_type": "execute_result"
    }
   ],
   "source": [
    "data.head()"
   ]
  },
  {
   "cell_type": "markdown",
   "metadata": {},
   "source": [
    "### Estandarización de Datos"
   ]
  },
  {
   "cell_type": "code",
   "execution_count": 4,
   "metadata": {},
   "outputs": [],
   "source": [
    "dataNoClase = data.drop('Clase', 1)\n",
    "y_final = data['Clase']\n",
    "\n",
    "x_std = StandardScaler().fit_transform(dataNoClase)\n",
    "atributos.remove('Clase')\n",
    "\n",
    "x_final = pd.DataFrame(data = x_std, columns = atributos)"
   ]
  },
  {
   "cell_type": "code",
   "execution_count": 5,
   "metadata": {},
   "outputs": [
    {
     "data": {
      "text/html": [
       "<div>\n",
       "<style scoped>\n",
       "    .dataframe tbody tr th:only-of-type {\n",
       "        vertical-align: middle;\n",
       "    }\n",
       "\n",
       "    .dataframe tbody tr th {\n",
       "        vertical-align: top;\n",
       "    }\n",
       "\n",
       "    .dataframe thead th {\n",
       "        text-align: right;\n",
       "    }\n",
       "</style>\n",
       "<table border=\"1\" class=\"dataframe\">\n",
       "  <thead>\n",
       "    <tr style=\"text-align: right;\">\n",
       "      <th></th>\n",
       "      <th>A1</th>\n",
       "      <th>A2</th>\n",
       "      <th>A3</th>\n",
       "      <th>A4</th>\n",
       "      <th>A5</th>\n",
       "      <th>A6</th>\n",
       "      <th>A7</th>\n",
       "      <th>A8</th>\n",
       "      <th>A9</th>\n",
       "      <th>A10</th>\n",
       "      <th>...</th>\n",
       "      <th>A376</th>\n",
       "      <th>A377</th>\n",
       "      <th>A378</th>\n",
       "      <th>A379</th>\n",
       "      <th>A380</th>\n",
       "      <th>A381</th>\n",
       "      <th>A382</th>\n",
       "      <th>A383</th>\n",
       "      <th>A384</th>\n",
       "      <th>A385</th>\n",
       "    </tr>\n",
       "  </thead>\n",
       "  <tbody>\n",
       "    <tr>\n",
       "      <th>0</th>\n",
       "      <td>-0.458699</td>\n",
       "      <td>-0.307113</td>\n",
       "      <td>-0.243608</td>\n",
       "      <td>-0.307003</td>\n",
       "      <td>-0.518008</td>\n",
       "      <td>-0.675602</td>\n",
       "      <td>-1.003106</td>\n",
       "      <td>-0.760053</td>\n",
       "      <td>-0.659573</td>\n",
       "      <td>-0.1849</td>\n",
       "      <td>...</td>\n",
       "      <td>-1.346831</td>\n",
       "      <td>2.398449</td>\n",
       "      <td>-0.608699</td>\n",
       "      <td>-0.69581</td>\n",
       "      <td>-0.707798</td>\n",
       "      <td>-0.499451</td>\n",
       "      <td>-0.009384</td>\n",
       "      <td>-1.20185</td>\n",
       "      <td>-0.641154</td>\n",
       "      <td>-0.332086</td>\n",
       "    </tr>\n",
       "    <tr>\n",
       "      <th>1</th>\n",
       "      <td>-0.458699</td>\n",
       "      <td>-0.307113</td>\n",
       "      <td>-0.243608</td>\n",
       "      <td>-0.307003</td>\n",
       "      <td>-0.518008</td>\n",
       "      <td>-0.675602</td>\n",
       "      <td>-1.003106</td>\n",
       "      <td>-0.760053</td>\n",
       "      <td>-0.659573</td>\n",
       "      <td>-0.1849</td>\n",
       "      <td>...</td>\n",
       "      <td>-1.346831</td>\n",
       "      <td>2.388748</td>\n",
       "      <td>-0.608699</td>\n",
       "      <td>-0.69581</td>\n",
       "      <td>-0.707798</td>\n",
       "      <td>-0.499451</td>\n",
       "      <td>-0.009384</td>\n",
       "      <td>-1.20185</td>\n",
       "      <td>-0.641154</td>\n",
       "      <td>-0.339097</td>\n",
       "    </tr>\n",
       "    <tr>\n",
       "      <th>2</th>\n",
       "      <td>-0.458699</td>\n",
       "      <td>-0.307113</td>\n",
       "      <td>-0.243608</td>\n",
       "      <td>-0.307003</td>\n",
       "      <td>-0.518008</td>\n",
       "      <td>-0.675602</td>\n",
       "      <td>-1.003106</td>\n",
       "      <td>-0.760053</td>\n",
       "      <td>-0.659573</td>\n",
       "      <td>-0.1849</td>\n",
       "      <td>...</td>\n",
       "      <td>-1.346831</td>\n",
       "      <td>2.388748</td>\n",
       "      <td>-0.608699</td>\n",
       "      <td>-0.69581</td>\n",
       "      <td>-0.707798</td>\n",
       "      <td>-0.499451</td>\n",
       "      <td>-0.009384</td>\n",
       "      <td>-1.20185</td>\n",
       "      <td>-0.641154</td>\n",
       "      <td>-0.346107</td>\n",
       "    </tr>\n",
       "    <tr>\n",
       "      <th>3</th>\n",
       "      <td>-0.458699</td>\n",
       "      <td>-0.307113</td>\n",
       "      <td>-0.243608</td>\n",
       "      <td>-0.307003</td>\n",
       "      <td>-0.518008</td>\n",
       "      <td>-0.675602</td>\n",
       "      <td>-1.003106</td>\n",
       "      <td>-0.760053</td>\n",
       "      <td>-0.659573</td>\n",
       "      <td>-0.1849</td>\n",
       "      <td>...</td>\n",
       "      <td>-1.346831</td>\n",
       "      <td>2.388748</td>\n",
       "      <td>-0.608699</td>\n",
       "      <td>-0.69581</td>\n",
       "      <td>-0.707798</td>\n",
       "      <td>-0.499451</td>\n",
       "      <td>-0.009384</td>\n",
       "      <td>-1.20185</td>\n",
       "      <td>-0.641154</td>\n",
       "      <td>-0.353118</td>\n",
       "    </tr>\n",
       "    <tr>\n",
       "      <th>4</th>\n",
       "      <td>-0.458699</td>\n",
       "      <td>-0.307113</td>\n",
       "      <td>-0.243608</td>\n",
       "      <td>-0.307003</td>\n",
       "      <td>-0.518008</td>\n",
       "      <td>-0.675602</td>\n",
       "      <td>-1.003106</td>\n",
       "      <td>-0.760053</td>\n",
       "      <td>-0.659573</td>\n",
       "      <td>-0.1849</td>\n",
       "      <td>...</td>\n",
       "      <td>-1.346831</td>\n",
       "      <td>2.388245</td>\n",
       "      <td>-0.608699</td>\n",
       "      <td>-0.69581</td>\n",
       "      <td>-0.707798</td>\n",
       "      <td>-0.499451</td>\n",
       "      <td>-0.009384</td>\n",
       "      <td>-1.20185</td>\n",
       "      <td>-0.641154</td>\n",
       "      <td>-0.360128</td>\n",
       "    </tr>\n",
       "  </tbody>\n",
       "</table>\n",
       "<p>5 rows × 385 columns</p>\n",
       "</div>"
      ],
      "text/plain": [
       "         A1        A2        A3        A4        A5        A6        A7  \\\n",
       "0 -0.458699 -0.307113 -0.243608 -0.307003 -0.518008 -0.675602 -1.003106   \n",
       "1 -0.458699 -0.307113 -0.243608 -0.307003 -0.518008 -0.675602 -1.003106   \n",
       "2 -0.458699 -0.307113 -0.243608 -0.307003 -0.518008 -0.675602 -1.003106   \n",
       "3 -0.458699 -0.307113 -0.243608 -0.307003 -0.518008 -0.675602 -1.003106   \n",
       "4 -0.458699 -0.307113 -0.243608 -0.307003 -0.518008 -0.675602 -1.003106   \n",
       "\n",
       "         A8        A9     A10  ...      A376      A377      A378     A379  \\\n",
       "0 -0.760053 -0.659573 -0.1849  ... -1.346831  2.398449 -0.608699 -0.69581   \n",
       "1 -0.760053 -0.659573 -0.1849  ... -1.346831  2.388748 -0.608699 -0.69581   \n",
       "2 -0.760053 -0.659573 -0.1849  ... -1.346831  2.388748 -0.608699 -0.69581   \n",
       "3 -0.760053 -0.659573 -0.1849  ... -1.346831  2.388748 -0.608699 -0.69581   \n",
       "4 -0.760053 -0.659573 -0.1849  ... -1.346831  2.388245 -0.608699 -0.69581   \n",
       "\n",
       "       A380      A381      A382     A383      A384      A385  \n",
       "0 -0.707798 -0.499451 -0.009384 -1.20185 -0.641154 -0.332086  \n",
       "1 -0.707798 -0.499451 -0.009384 -1.20185 -0.641154 -0.339097  \n",
       "2 -0.707798 -0.499451 -0.009384 -1.20185 -0.641154 -0.346107  \n",
       "3 -0.707798 -0.499451 -0.009384 -1.20185 -0.641154 -0.353118  \n",
       "4 -0.707798 -0.499451 -0.009384 -1.20185 -0.641154 -0.360128  \n",
       "\n",
       "[5 rows x 385 columns]"
      ]
     },
     "execution_count": 5,
     "metadata": {},
     "output_type": "execute_result"
    }
   ],
   "source": [
    "x_final.head()"
   ]
  },
  {
   "cell_type": "markdown",
   "metadata": {},
   "source": [
    "## PCA"
   ]
  },
  {
   "cell_type": "markdown",
   "metadata": {},
   "source": [
    "Se optó por utilizar el Análisis de Componentes Principales debido a la gran cantidad de atributos que nuestros elementos tienen, además de proporcionar más precisión a nuestros clasificadores."
   ]
  },
  {
   "cell_type": "code",
   "execution_count": 6,
   "metadata": {},
   "outputs": [
    {
     "name": "stdout",
     "output_type": "stream",
     "text": [
      "Ingrese la cantidad de Componentes Principales: 10\n"
     ]
    }
   ],
   "source": [
    "num_comp = int(input(\"Ingrese la cantidad de Componentes Principales: \"))\n",
    "pca = PCA(n_components = num_comp)"
   ]
  },
  {
   "cell_type": "code",
   "execution_count": 7,
   "metadata": {},
   "outputs": [],
   "source": [
    "atributos = []\n",
    "for i in range(num_comp):\n",
    "    atributos.append('CP'+ str(i+1))"
   ]
  },
  {
   "cell_type": "code",
   "execution_count": 8,
   "metadata": {},
   "outputs": [
    {
     "data": {
      "text/plain": [
       "['CP1', 'CP2', 'CP3', 'CP4', 'CP5', 'CP6', 'CP7', 'CP8', 'CP9', 'CP10']"
      ]
     },
     "execution_count": 8,
     "metadata": {},
     "output_type": "execute_result"
    }
   ],
   "source": [
    "atributos"
   ]
  },
  {
   "cell_type": "code",
   "execution_count": 9,
   "metadata": {},
   "outputs": [],
   "source": [
    "x_pca = pca.fit_transform(x_std)\n",
    "x_final = pd.DataFrame(data = x_pca, columns = atributos)"
   ]
  },
  {
   "cell_type": "code",
   "execution_count": 10,
   "metadata": {
    "scrolled": true
   },
   "outputs": [
    {
     "data": {
      "text/html": [
       "<div>\n",
       "<style scoped>\n",
       "    .dataframe tbody tr th:only-of-type {\n",
       "        vertical-align: middle;\n",
       "    }\n",
       "\n",
       "    .dataframe tbody tr th {\n",
       "        vertical-align: top;\n",
       "    }\n",
       "\n",
       "    .dataframe thead th {\n",
       "        text-align: right;\n",
       "    }\n",
       "</style>\n",
       "<table border=\"1\" class=\"dataframe\">\n",
       "  <thead>\n",
       "    <tr style=\"text-align: right;\">\n",
       "      <th></th>\n",
       "      <th>CP1</th>\n",
       "      <th>CP2</th>\n",
       "      <th>CP3</th>\n",
       "      <th>CP4</th>\n",
       "      <th>CP5</th>\n",
       "      <th>CP6</th>\n",
       "      <th>CP7</th>\n",
       "      <th>CP8</th>\n",
       "      <th>CP9</th>\n",
       "      <th>CP10</th>\n",
       "    </tr>\n",
       "  </thead>\n",
       "  <tbody>\n",
       "    <tr>\n",
       "      <th>0</th>\n",
       "      <td>10.460596</td>\n",
       "      <td>-3.339109</td>\n",
       "      <td>-4.563161</td>\n",
       "      <td>3.327759</td>\n",
       "      <td>-2.208121</td>\n",
       "      <td>6.064103</td>\n",
       "      <td>-4.216890</td>\n",
       "      <td>-2.282480</td>\n",
       "      <td>2.566458</td>\n",
       "      <td>-0.184194</td>\n",
       "    </tr>\n",
       "    <tr>\n",
       "      <th>1</th>\n",
       "      <td>10.476073</td>\n",
       "      <td>-3.105652</td>\n",
       "      <td>-4.598310</td>\n",
       "      <td>3.396971</td>\n",
       "      <td>-2.553714</td>\n",
       "      <td>6.859681</td>\n",
       "      <td>-4.514791</td>\n",
       "      <td>-2.525036</td>\n",
       "      <td>2.475475</td>\n",
       "      <td>-0.264140</td>\n",
       "    </tr>\n",
       "    <tr>\n",
       "      <th>2</th>\n",
       "      <td>10.461930</td>\n",
       "      <td>-3.080342</td>\n",
       "      <td>-4.655892</td>\n",
       "      <td>3.387952</td>\n",
       "      <td>-2.533418</td>\n",
       "      <td>7.027484</td>\n",
       "      <td>-4.408574</td>\n",
       "      <td>-2.720884</td>\n",
       "      <td>2.408274</td>\n",
       "      <td>-0.350027</td>\n",
       "    </tr>\n",
       "    <tr>\n",
       "      <th>3</th>\n",
       "      <td>10.266744</td>\n",
       "      <td>-3.118854</td>\n",
       "      <td>-4.481004</td>\n",
       "      <td>3.101231</td>\n",
       "      <td>-2.716013</td>\n",
       "      <td>6.562618</td>\n",
       "      <td>-3.877002</td>\n",
       "      <td>-2.767032</td>\n",
       "      <td>2.268119</td>\n",
       "      <td>-0.407711</td>\n",
       "    </tr>\n",
       "    <tr>\n",
       "      <th>4</th>\n",
       "      <td>10.291467</td>\n",
       "      <td>-3.159250</td>\n",
       "      <td>-4.525222</td>\n",
       "      <td>3.179001</td>\n",
       "      <td>-2.780219</td>\n",
       "      <td>6.549292</td>\n",
       "      <td>-3.847466</td>\n",
       "      <td>-2.891800</td>\n",
       "      <td>2.291335</td>\n",
       "      <td>-0.392369</td>\n",
       "    </tr>\n",
       "  </tbody>\n",
       "</table>\n",
       "</div>"
      ],
      "text/plain": [
       "         CP1       CP2       CP3       CP4       CP5       CP6       CP7  \\\n",
       "0  10.460596 -3.339109 -4.563161  3.327759 -2.208121  6.064103 -4.216890   \n",
       "1  10.476073 -3.105652 -4.598310  3.396971 -2.553714  6.859681 -4.514791   \n",
       "2  10.461930 -3.080342 -4.655892  3.387952 -2.533418  7.027484 -4.408574   \n",
       "3  10.266744 -3.118854 -4.481004  3.101231 -2.716013  6.562618 -3.877002   \n",
       "4  10.291467 -3.159250 -4.525222  3.179001 -2.780219  6.549292 -3.847466   \n",
       "\n",
       "        CP8       CP9      CP10  \n",
       "0 -2.282480  2.566458 -0.184194  \n",
       "1 -2.525036  2.475475 -0.264140  \n",
       "2 -2.720884  2.408274 -0.350027  \n",
       "3 -2.767032  2.268119 -0.407711  \n",
       "4 -2.891800  2.291335 -0.392369  "
      ]
     },
     "execution_count": 10,
     "metadata": {},
     "output_type": "execute_result"
    }
   ],
   "source": [
    "x_final.head()"
   ]
  },
  {
   "cell_type": "markdown",
   "metadata": {},
   "source": [
    "## Clasificadores de Información"
   ]
  },
  {
   "cell_type": "code",
   "execution_count": 11,
   "metadata": {},
   "outputs": [],
   "source": [
    "dataFinal = pd.concat([x_final, y_final], axis = 1);\n",
    "X = x_final\n",
    "Y = y_final"
   ]
  },
  {
   "cell_type": "markdown",
   "metadata": {},
   "source": [
    "Para entrenar los diversos clasificadores es nececsario dividir nuestra información ya limpia y estandarizada en dos conjuntos:\n",
    "\n",
    "- Conjunto de entrenamiento\n",
    "- Conjunto de prueba"
   ]
  },
  {
   "cell_type": "code",
   "execution_count": 12,
   "metadata": {},
   "outputs": [],
   "source": [
    "from sklearn.model_selection import train_test_split\n",
    "\n",
    "X_train, X_test, y_train, y_test = train_test_split(X, Y)"
   ]
  },
  {
   "cell_type": "markdown",
   "metadata": {},
   "source": [
    "## Naive Bayes"
   ]
  },
  {
   "cell_type": "markdown",
   "metadata": {},
   "source": [
    "Naive Bayes es un clasificador probabilístico inspirado en el teorema de Bayes bajo una simple suposición de que los atributos son condicionalmente independientes.\n",
    "\n",
    "Naive Bayes es un algoritmo muy simple de implementar y se han obtenido buenos resultados en la mayoría de los casos. Puede ser fácilmente escalable a conjuntos de datos más grandes, ya que lleva tiempo lineal, en lugar de una aproximación iterativa costosa como se usa para muchos otros tipos de clasificadores."
   ]
  },
  {
   "cell_type": "code",
   "execution_count": 13,
   "metadata": {},
   "outputs": [],
   "source": [
    "from sklearn.naive_bayes import GaussianNB\n",
    "from sklearn.metrics import classification_report, confusion_matrix, accuracy_score\n",
    "\n",
    "clf_bayes = GaussianNB().fit(X_train, y_train)\n",
    "bayes_pred = clf_bayes.predict(X_test)"
   ]
  },
  {
   "cell_type": "markdown",
   "metadata": {},
   "source": [
    "### Reporte de Clasificación"
   ]
  },
  {
   "cell_type": "code",
   "execution_count": 14,
   "metadata": {},
   "outputs": [
    {
     "name": "stdout",
     "output_type": "stream",
     "text": [
      "              precision    recall  f1-score   support\n",
      "\n",
      "           0       0.73      0.47      0.57        17\n",
      "           1       0.88      0.82      0.85        51\n",
      "           2       0.70      0.70      0.70        10\n",
      "           3       1.00      1.00      1.00         5\n",
      "           4       0.42      0.67      0.52        12\n",
      "           5       0.75      0.81      0.78        26\n",
      "\n",
      "    accuracy                           0.75       121\n",
      "   macro avg       0.75      0.74      0.74       121\n",
      "weighted avg       0.77      0.75      0.76       121\n",
      "\n"
     ]
    }
   ],
   "source": [
    "print(classification_report(y_test, bayes_pred))"
   ]
  },
  {
   "cell_type": "markdown",
   "metadata": {},
   "source": [
    "### Matríz de Confusión "
   ]
  },
  {
   "cell_type": "code",
   "execution_count": 15,
   "metadata": {
    "scrolled": true
   },
   "outputs": [
    {
     "name": "stdout",
     "output_type": "stream",
     "text": [
      "[[ 8  4  0  0  4  1]\n",
      " [ 0 42  3  0  1  5]\n",
      " [ 1  1  7  0  1  0]\n",
      " [ 0  0  0  5  0  0]\n",
      " [ 2  1  0  0  8  1]\n",
      " [ 0  0  0  0  5 21]]\n"
     ]
    }
   ],
   "source": [
    "print(confusion_matrix(y_test, bayes_pred))"
   ]
  },
  {
   "cell_type": "markdown",
   "metadata": {},
   "source": [
    "### Precisión de Clasificador Naive Bayes"
   ]
  },
  {
   "cell_type": "code",
   "execution_count": 16,
   "metadata": {
    "scrolled": true
   },
   "outputs": [
    {
     "name": "stdout",
     "output_type": "stream",
     "text": [
      "0.7520661157024794\n"
     ]
    }
   ],
   "source": [
    "print(accuracy_score(y_test, bayes_pred))"
   ]
  },
  {
   "cell_type": "markdown",
   "metadata": {},
   "source": [
    "Podemos notar como la precisión de nuestro clasificador no es del todo optima, sin embargo veremos como se compara esta precisión con la de los demás clasificadores."
   ]
  },
  {
   "cell_type": "markdown",
   "metadata": {},
   "source": [
    "## Árbol de Decisión"
   ]
  },
  {
   "cell_type": "markdown",
   "metadata": {},
   "source": [
    "El árbol de decisión crea modelos de clasificación en forma de estructura de árbol. Utiliza un conjunto de reglas las cuales son exclusivas y exhaustivas para la clasificación.\n",
    "\n",
    "\n",
    "Este tipo de clasificador puede ajustarse fácilmente generando demasiadas ramas y puede reflejar anomalías debidas al ruido o valores atípicos (outliers). Un modelo sobre ajustado tiene un rendimiento muy pobre en los datos no vistos a pesar de que ofrece un rendimiento impresionante en los datos de entrenamiento. Esto se puede evitar mediante la poda, la cual es un proceso que elimina las ramas del árbol para una mejor clasificación de los elementos, sin embargo este proceso no se aplico en el respectivo clasificador."
   ]
  },
  {
   "cell_type": "code",
   "execution_count": 17,
   "metadata": {},
   "outputs": [],
   "source": [
    "from sklearn import tree\n",
    "clf_tree = tree.DecisionTreeClassifier()\n",
    "clf_tree = clf_tree.fit(X_train, y_train)\n",
    "tree_pred = clf_tree.predict(X_test)"
   ]
  },
  {
   "cell_type": "markdown",
   "metadata": {},
   "source": [
    "### Reporte de Clasificación"
   ]
  },
  {
   "cell_type": "code",
   "execution_count": 18,
   "metadata": {},
   "outputs": [
    {
     "name": "stdout",
     "output_type": "stream",
     "text": [
      "              precision    recall  f1-score   support\n",
      "\n",
      "           0       1.00      0.88      0.94        17\n",
      "           1       0.94      0.98      0.96        51\n",
      "           2       0.90      0.90      0.90        10\n",
      "           3       1.00      0.60      0.75         5\n",
      "           4       0.79      0.92      0.85        12\n",
      "           5       0.96      0.96      0.96        26\n",
      "\n",
      "    accuracy                           0.93       121\n",
      "   macro avg       0.93      0.87      0.89       121\n",
      "weighted avg       0.94      0.93      0.93       121\n",
      "\n"
     ]
    }
   ],
   "source": [
    "print(classification_report(y_test, tree_pred))"
   ]
  },
  {
   "cell_type": "markdown",
   "metadata": {},
   "source": [
    "### Matríz de Confusión "
   ]
  },
  {
   "cell_type": "code",
   "execution_count": 19,
   "metadata": {},
   "outputs": [
    {
     "name": "stdout",
     "output_type": "stream",
     "text": [
      "[[15  2  0  0  0  0]\n",
      " [ 0 50  0  0  1  0]\n",
      " [ 0  0  9  0  1  0]\n",
      " [ 0  1  0  3  0  1]\n",
      " [ 0  0  1  0 11  0]\n",
      " [ 0  0  0  0  1 25]]\n"
     ]
    }
   ],
   "source": [
    "print(confusion_matrix(y_test, tree_pred))"
   ]
  },
  {
   "cell_type": "markdown",
   "metadata": {},
   "source": [
    "### Precisión de Clasificador Arbol"
   ]
  },
  {
   "cell_type": "code",
   "execution_count": 20,
   "metadata": {
    "scrolled": true
   },
   "outputs": [
    {
     "name": "stdout",
     "output_type": "stream",
     "text": [
      "0.9338842975206612\n"
     ]
    }
   ],
   "source": [
    "print(accuracy_score(y_test, tree_pred))"
   ]
  },
  {
   "cell_type": "markdown",
   "metadata": {},
   "source": [
    "Podemos notar que a diferencia del clasificador Naive Bayes se obtuvo una mayor precisión incluso sin utilizar el procedimiento de poda de árbol. Así mismo la diferencia de precisión entre ambos clasificadores es considerable."
   ]
  },
  {
   "cell_type": "markdown",
   "metadata": {},
   "source": [
    "## K-Nearest Neighbors"
   ]
  },
  {
   "cell_type": "markdown",
   "metadata": {},
   "source": [
    "k-Nearest Neighbour por sus siglas KNN es un algoritmo de aprendizaje lento que almacena todas las instancias correspondientes a puntos de datos de entrenamiento en espacio n-dimensional. Cuando se reciben datos discretos desconocidos, analiza el número k más cercano de instancias guardadas también identificados como: \"vecinos más cercanos\" y devuelve la clase más común como la predicción y para los datos con valor real devuelve la media de k vecinos más cercanos."
   ]
  },
  {
   "cell_type": "code",
   "execution_count": 21,
   "metadata": {},
   "outputs": [
    {
     "name": "stdout",
     "output_type": "stream",
     "text": [
      "Numero de Vecinos K = 10\n"
     ]
    }
   ],
   "source": [
    "from sklearn.neighbors import KNeighborsClassifier\n",
    "num_vecinos = int(input(\"Numero de Vecinos K = \"))\n",
    "clf_knn = KNeighborsClassifier(n_neighbors = 5)\n",
    "clf_knn.fit(X_train, y_train)\n",
    "knn_pred = clf_knn.predict(X_test)"
   ]
  },
  {
   "cell_type": "markdown",
   "metadata": {},
   "source": [
    "### Reporte de Clasificación"
   ]
  },
  {
   "cell_type": "code",
   "execution_count": 22,
   "metadata": {},
   "outputs": [
    {
     "name": "stdout",
     "output_type": "stream",
     "text": [
      "              precision    recall  f1-score   support\n",
      "\n",
      "           0       1.00      0.94      0.97        17\n",
      "           1       0.96      0.98      0.97        51\n",
      "           2       1.00      0.80      0.89        10\n",
      "           3       1.00      1.00      1.00         5\n",
      "           4       0.85      0.92      0.88        12\n",
      "           5       0.93      0.96      0.94        26\n",
      "\n",
      "    accuracy                           0.95       121\n",
      "   macro avg       0.96      0.93      0.94       121\n",
      "weighted avg       0.95      0.95      0.95       121\n",
      "\n"
     ]
    }
   ],
   "source": [
    "print(classification_report(y_test, knn_pred))"
   ]
  },
  {
   "cell_type": "markdown",
   "metadata": {},
   "source": [
    "### Matríz de Confusión "
   ]
  },
  {
   "cell_type": "code",
   "execution_count": 23,
   "metadata": {},
   "outputs": [
    {
     "name": "stdout",
     "output_type": "stream",
     "text": [
      "[[16  1  0  0  0  0]\n",
      " [ 0 50  0  0  0  1]\n",
      " [ 0  1  8  0  1  0]\n",
      " [ 0  0  0  5  0  0]\n",
      " [ 0  0  0  0 11  1]\n",
      " [ 0  0  0  0  1 25]]\n"
     ]
    }
   ],
   "source": [
    "print(confusion_matrix(y_test, knn_pred))"
   ]
  },
  {
   "cell_type": "markdown",
   "metadata": {},
   "source": [
    "### Precisión de Clasificador KNN"
   ]
  },
  {
   "cell_type": "code",
   "execution_count": 24,
   "metadata": {
    "scrolled": true
   },
   "outputs": [
    {
     "name": "stdout",
     "output_type": "stream",
     "text": [
      "0.9504132231404959\n"
     ]
    }
   ],
   "source": [
    "print(accuracy_score(y_test, knn_pred))"
   ]
  },
  {
   "cell_type": "markdown",
   "metadata": {},
   "source": [
    "Podemos notar que de los tres clasificadores seleccionados KNN es el que obtuvo un mayor grado de precisión para determinar la clase de los elementos en nuestro dataset, esto es aún más evidente si observamos la matriz de confusión, donde únicamente cometió dos errores, por lo que podemos observar la eficiencia de este algoritmo en el caso particular de K = 10."
   ]
  },
  {
   "cell_type": "markdown",
   "metadata": {},
   "source": [
    "# Conclusión"
   ]
  },
  {
   "cell_type": "markdown",
   "metadata": {},
   "source": [
    "Tras haber experimentado con los distintos tipos de clasificadores se pudo observar que estos varían en su desempeño y por en de en su precisión para determinar la clase de algún elemento, esto nos permite deducir el por que de los métodos de ensamble, al utilizar diferentes algoritmos de clasificación en conjunto nos permite obtener un mejor desempeño en la predicción, algo que sería distinto de manera individual."
   ]
  },
  {
   "cell_type": "markdown",
   "metadata": {},
   "source": [
    "# Cuarta Entrega \n",
    "## Ensamble de Clasificadores"
   ]
  },
  {
   "cell_type": "markdown",
   "metadata": {},
   "source": [
    "Como se había explicado en la anterior entrega, un ensamble es un conjunto de clasificadores que nos permite combinar múltiples hipótesis para formar una hipótesis mejor y más precisa, esto nos permitirá tener una predicción mas certera. \n",
    "\n",
    "Existen varios métodos de ensamble, entre los más conocidos y utilizados se encuentran los siguientes:\n",
    "\n",
    "* **Bagging:** Mejora la estabilidad y precisión de algoritmos de aprendizaje automático\n",
    "* **Adaboost:** Propone entrenar iterativamente una serie de clasificadores base, de tal modo que cada nuevo clasificador preste mayor atención a los datos clasificados erróneamente por los clasificadores anteriores\n",
    "* **Random Forest:** Este método se encarga de crear y combinar diversos árboles haciendo que trabajen en conjunto de tal manera que la salida de cada uno se contará como \"un voto\" y la opción más votada será la respuesta del \"Random Forest\"\n",
    "\n",
    "En nuestro caso particular nos enfocaremos en el método de votación. Este método toma una lista de diferentes estimadores como argumentos y un método de votación, ya sea una votación dura o suave. \n",
    "El método de votación dura utiliza las etiquetas predichas y un sistema de reglas por mayoría, mientras que el método de votación suave predice las etiquetas de clase en función de las probabilidades predichas para el clasificador."
   ]
  },
  {
   "cell_type": "markdown",
   "metadata": {},
   "source": [
    "## Promedio de Predicciones"
   ]
  },
  {
   "cell_type": "markdown",
   "metadata": {},
   "source": [
    "Antes de entrar al clasificador de votación, cubramos un método muy rápido y fácil el cual se basa en el promedio de las predicciones. Simplemente sumamos los diferentes valores obtenidos de nuestros clasificadores elegidos y luego los dividimos por el número total de clasificadores, usando la división de piso para obtener un valor completo."
   ]
  },
  {
   "cell_type": "code",
   "execution_count": 25,
   "metadata": {},
   "outputs": [
    {
     "name": "stdout",
     "output_type": "stream",
     "text": [
      "Promedio de Clasificadores: 0.7933884297520661\n"
     ]
    }
   ],
   "source": [
    "avg_preds = (knn_pred + tree_pred + bayes_pred)//3\n",
    "acc = accuracy_score(y_test, avg_preds)\n",
    "print(\"Promedio de Clasificadores: \" + str(acc))"
   ]
  },
  {
   "cell_type": "markdown",
   "metadata": {},
   "source": [
    "Podemos notar que guardamos las predicciones de los clasificadores anteriormente mostrados en variables individuales para posteriormente utilizar esos valores."
   ]
  },
  {
   "cell_type": "markdown",
   "metadata": {},
   "source": [
    "## Método de Votación"
   ]
  },
  {
   "cell_type": "markdown",
   "metadata": {},
   "source": [
    "Creamos nuestro clasificador de votación a partir de los clasificadores KNN, Bayes y Árbol de Decisión mostrados anteriormente y se determina el tipo de votación, el cual en nuestro caso será una votación dura.\n",
    "Al igual que con los clasificadores anteriores se le brindarán datos de entrenamiento para posteriormente hacer una predicción"
   ]
  },
  {
   "cell_type": "code",
   "execution_count": 26,
   "metadata": {},
   "outputs": [
    {
     "data": {
      "text/plain": [
       "VotingClassifier(estimators=[('Bayes',\n",
       "                              GaussianNB(priors=None, var_smoothing=1e-09)),\n",
       "                             ('Tree',\n",
       "                              DecisionTreeClassifier(class_weight=None,\n",
       "                                                     criterion='gini',\n",
       "                                                     max_depth=None,\n",
       "                                                     max_features=None,\n",
       "                                                     max_leaf_nodes=None,\n",
       "                                                     min_impurity_decrease=0.0,\n",
       "                                                     min_impurity_split=None,\n",
       "                                                     min_samples_leaf=1,\n",
       "                                                     min_samples_split=2,\n",
       "                                                     min_weight_fraction_leaf=0.0,\n",
       "                                                     presort=False,\n",
       "                                                     random_state=None,\n",
       "                                                     splitter='best')),\n",
       "                             ('KNN',\n",
       "                              KNeighborsClassifier(algorithm='auto',\n",
       "                                                   leaf_size=30,\n",
       "                                                   metric='minkowski',\n",
       "                                                   metric_params=None,\n",
       "                                                   n_jobs=None, n_neighbors=5,\n",
       "                                                   p=2, weights='uniform'))],\n",
       "                 flatten_transform=True, n_jobs=None, voting='hard',\n",
       "                 weights=None)"
      ]
     },
     "execution_count": 26,
     "metadata": {},
     "output_type": "execute_result"
    }
   ],
   "source": [
    "from sklearn.ensemble import VotingClassifier\n",
    "\n",
    "voting_clf = VotingClassifier(\n",
    "    estimators= [('Bayes', clf_bayes), ('Tree', clf_tree), ('KNN', clf_knn)], voting='hard')\n",
    "\n",
    "voting_clf.fit(X_train, y_train)"
   ]
  },
  {
   "cell_type": "markdown",
   "metadata": {},
   "source": [
    "Podemos notar como nuestro ensamble describe las características especificas de cada clasificador con el que está trabajando.\n",
    "\n",
    "Posteriormente se calcula la precisión de predicción de nuestro ensamble"
   ]
  },
  {
   "cell_type": "markdown",
   "metadata": {},
   "source": [
    "## Predicción y Resultados"
   ]
  },
  {
   "cell_type": "code",
   "execution_count": 27,
   "metadata": {},
   "outputs": [
    {
     "name": "stdout",
     "output_type": "stream",
     "text": [
      "Precisión: 0.9421487603305785\n"
     ]
    }
   ],
   "source": [
    "preds = voting_clf.predict(X_test)\n",
    "acc = accuracy_score(y_test, preds)\n",
    "\n",
    "print(\"Precisión: \" + str(acc))"
   ]
  },
  {
   "cell_type": "markdown",
   "metadata": {},
   "source": [
    "## Conclusión\n",
    "\n",
    "El método de ensamble por votación es un uno de los métodos más populares y como podemos ver es un método más complejo a diferencia de un promedio simple de los resultados de clasificación, ya que como podemos observar su precisión es más elevada y por lo tanto más óptima. El ensamble nos permite obtener una mejor predicción, combinando diferentes clasificadores para obtener datos más precisos."
   ]
  }
 ],
 "metadata": {
  "kernelspec": {
   "display_name": "Python 3",
   "language": "python",
   "name": "python3"
  },
  "language_info": {
   "codemirror_mode": {
    "name": "ipython",
    "version": 3
   },
   "file_extension": ".py",
   "mimetype": "text/x-python",
   "name": "python",
   "nbconvert_exporter": "python",
   "pygments_lexer": "ipython3",
   "version": "3.6.9"
  }
 },
 "nbformat": 4,
 "nbformat_minor": 4
}
